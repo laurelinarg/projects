{
  "nbformat": 4,
  "nbformat_minor": 0,
  "metadata": {
    "colab": {
      "name": "Argemi-TP-C-ipynb",
      "provenance": [],
      "collapsed_sections": []
    },
    "kernelspec": {
      "name": "python3",
      "display_name": "Python 3"
    }
  },
  "cells": [
    {
      "cell_type": "markdown",
      "metadata": {
        "id": "iK7Vws_x60xK"
      },
      "source": [
        "# **TRABAJO FINAL, TIPO C**\n",
        "\n",
        "**CÀTEDRA: Programación**\n",
        "\n",
        "**DOCENTE: Ing. Diego Rodriguez**\n",
        "\n",
        "**ALUMNA: Laura Argemi**\n",
        "\n",
        "![WhatsApp Image 2020-11-13 at 18.28.32.jpeg](data:image/jpeg;base64,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)"
      ]
    },
    {
      "cell_type": "markdown",
      "metadata": {
        "id": "ZqKnqpBybeoc"
      },
      "source": [
        "**INTRODUCCIÓN**\n",
        "\n",
        "Al comenzar a plantearme como abordar este trabajo, además del material visto en clase, comencé a investigar herramientas por fuera que pudieran brindar una mejor ejecución para grandes grupos de datos. Y fue ahí que me tope con Pandas, una librería que permite utilizar los datos como arreglos multidimensionales o matrices. Por eso elegí esa librería como la principal herramienta. No sabía nada de la misma, por lo cual también tuve que investigar bastante para poder utilizarla con el fin de dar con la resolución del trabajo."
      ]
    },
    {
      "cell_type": "markdown",
      "metadata": {
        "id": "Q0KFXMa0cjTp"
      },
      "source": [
        "**DESARROLLO**\n",
        "\n",
        "Como establecí en el texto introductorio, pasé por varios momentos del código. Identifiqué los requerimientos para poder plantear, decodificando la necesidad de desarrollar 3 funciones promedio: una para el promedio anual, otro para el promedio mensual general, y otra para el promedio estacional. A continuación se mostrará el código documentado"
      ]
    },
    {
      "cell_type": "markdown",
      "metadata": {
        "id": "PEUz4dWNj3Pd"
      },
      "source": [
        "**Precipitaciones**"
      ]
    },
    {
      "cell_type": "markdown",
      "metadata": {
        "id": "uSI0GM0-dEBR"
      },
      "source": [
        "*Importamos la librerìa pandas y tambièn la librerìa io que nos permite ver las entradas y salidas del código. A su vez, llamamos a upload para que pueda subirle nuestro archivo csv. En esta primera instancia el archivo es el de precipitaciones*"
      ]
    },
    {
      "cell_type": "code",
      "metadata": {
        "id": "rkABm0yoJ1Go"
      },
      "source": [
        "import pandas as pd\n",
        "import csv"
      ],
      "execution_count": 21,
      "outputs": []
    },
    {
      "cell_type": "code",
      "metadata": {
        "id": "wzwnDOFR2Mqj"
      },
      "source": [
        "df=pd.read_csv('//content/drive/My Drive/Colab Notebooks/historico_precipitaciones.csv')"
      ],
      "execution_count": 22,
      "outputs": []
    },
    {
      "cell_type": "markdown",
      "metadata": {
        "id": "MOdugxoodi97"
      },
      "source": [
        "*Aqui establecemos la lectura del archivo convirtiéndolo en un dataframe, es decir, en un arreglo multidimensional*"
      ]
    },
    {
      "cell_type": "markdown",
      "metadata": {
        "id": "B-agNOkjd4Jo"
      },
      "source": [
        "*Probamos si los datos se cargaron bien utilizando la función head que imprime los primeros 5 datos de mi matriz*"
      ]
    },
    {
      "cell_type": "code",
      "metadata": {
        "id": "esPy4mISa5OL",
        "outputId": "11f0f254-d2e8-4a6d-ee02-adb12c264e3d",
        "colab": {
          "base_uri": "https://localhost:8080/",
          "height": 204
        }
      },
      "source": [
        "df.head()"
      ],
      "execution_count": 123,
      "outputs": [
        {
          "output_type": "execute_result",
          "data": {
            "text/html": [
              "<div>\n",
              "<style scoped>\n",
              "    .dataframe tbody tr th:only-of-type {\n",
              "        vertical-align: middle;\n",
              "    }\n",
              "\n",
              "    .dataframe tbody tr th {\n",
              "        vertical-align: top;\n",
              "    }\n",
              "\n",
              "    .dataframe thead th {\n",
              "        text-align: right;\n",
              "    }\n",
              "</style>\n",
              "<table border=\"1\" class=\"dataframe\">\n",
              "  <thead>\n",
              "    <tr style=\"text-align: right;\">\n",
              "      <th></th>\n",
              "      <th>año</th>\n",
              "      <th>mes</th>\n",
              "      <th>mm</th>\n",
              "      <th>días</th>\n",
              "    </tr>\n",
              "  </thead>\n",
              "  <tbody>\n",
              "    <tr>\n",
              "      <th>0</th>\n",
              "      <td>1991</td>\n",
              "      <td>Enero</td>\n",
              "      <td>190.0</td>\n",
              "      <td>7</td>\n",
              "    </tr>\n",
              "    <tr>\n",
              "      <th>1</th>\n",
              "      <td>1991</td>\n",
              "      <td>Febrero</td>\n",
              "      <td>30.5</td>\n",
              "      <td>6</td>\n",
              "    </tr>\n",
              "    <tr>\n",
              "      <th>2</th>\n",
              "      <td>1991</td>\n",
              "      <td>Marzo</td>\n",
              "      <td>55.0</td>\n",
              "      <td>8</td>\n",
              "    </tr>\n",
              "    <tr>\n",
              "      <th>3</th>\n",
              "      <td>1991</td>\n",
              "      <td>Abril</td>\n",
              "      <td>125.6</td>\n",
              "      <td>12</td>\n",
              "    </tr>\n",
              "    <tr>\n",
              "      <th>4</th>\n",
              "      <td>1991</td>\n",
              "      <td>Mayo</td>\n",
              "      <td>68.4</td>\n",
              "      <td>7</td>\n",
              "    </tr>\n",
              "  </tbody>\n",
              "</table>\n",
              "</div>"
            ],
            "text/plain": [
              "    año      mes     mm  días\n",
              "0  1991    Enero  190.0     7\n",
              "1  1991  Febrero   30.5     6\n",
              "2  1991    Marzo   55.0     8\n",
              "3  1991    Abril  125.6    12\n",
              "4  1991     Mayo   68.4     7"
            ]
          },
          "metadata": {
            "tags": []
          },
          "execution_count": 123
        }
      ]
    },
    {
      "cell_type": "markdown",
      "metadata": {
        "id": "LtNWdDcRZFeb"
      },
      "source": [
        "*Con el siguiente comando podemos saber la cantida de filas y columnas del dataframe*"
      ]
    },
    {
      "cell_type": "code",
      "metadata": {
        "id": "A2lCpR0kY6UA",
        "outputId": "9ddfe27f-7651-4bb5-f87a-edd6db3f2b20",
        "colab": {
          "base_uri": "https://localhost:8080/"
        }
      },
      "source": [
        "df.shape"
      ],
      "execution_count": 146,
      "outputs": [
        {
          "output_type": "execute_result",
          "data": {
            "text/plain": [
              "(354, 4)"
            ]
          },
          "metadata": {
            "tags": []
          },
          "execution_count": 146
        }
      ]
    },
    {
      "cell_type": "markdown",
      "metadata": {
        "id": "vYMdOsrRWJUV"
      },
      "source": [
        "*Preguntamos que tipo de datos tienen*"
      ]
    },
    {
      "cell_type": "code",
      "metadata": {
        "id": "Ks5M6zM7V4h_",
        "outputId": "e18d0125-5417-44a7-c840-e1a57f4b61c3",
        "colab": {
          "base_uri": "https://localhost:8080/"
        }
      },
      "source": [
        "df.dtypes"
      ],
      "execution_count": 145,
      "outputs": [
        {
          "output_type": "execute_result",
          "data": {
            "text/plain": [
              "año       int64\n",
              "mes      object\n",
              "mm      float64\n",
              "días      int64\n",
              "dtype: object"
            ]
          },
          "metadata": {
            "tags": []
          },
          "execution_count": 145
        }
      ]
    },
    {
      "cell_type": "markdown",
      "metadata": {
        "id": "NYx5Pj8NWa-c"
      },
      "source": [
        "*Con el comando unique vemos cuantos datos hay y las posiciones en la columna milímetros*"
      ]
    },
    {
      "cell_type": "code",
      "metadata": {
        "id": "j0ywYxc61rdE",
        "outputId": "15541a44-3c08-46f3-8ad4-76bf45bf8f96",
        "colab": {
          "base_uri": "https://localhost:8080/"
        }
      },
      "source": [
        "pd.unique(df['mm'])"
      ],
      "execution_count": null,
      "outputs": [
        {
          "output_type": "execute_result",
          "data": {
            "text/plain": [
              "array([1.900e+02, 3.050e+01, 5.500e+01, 1.256e+02, 6.840e+01, 1.197e+02,\n",
              "       8.930e+01, 6.640e+01, 8.550e+01, 1.317e+02, 9.240e+01, 2.440e+02,\n",
              "       1.119e+02, 3.680e+01, 1.160e+02, 1.100e+02, 1.895e+02, 9.890e+01,\n",
              "       4.650e+01, 7.780e+01, 6.790e+01, 1.357e+02, 8.910e+01, 1.389e+02,\n",
              "       1.225e+02, 1.352e+02, 9.850e+01, 2.004e+02, 1.097e+02, 1.325e+02,\n",
              "       3.910e+01, 5.050e+01, 3.880e+01, 1.703e+02, 2.158e+02, 1.474e+02,\n",
              "       7.330e+01, 5.010e+01, 1.345e+02, 2.099e+02, 1.017e+02, 5.190e+01,\n",
              "       7.370e+01, 3.940e+01, 2.420e+01, 1.271e+02, 2.720e+01, 1.241e+02,\n",
              "       4.930e+01, 7.080e+01, 1.515e+02, 1.711e+02, 1.820e+01, 2.730e+01,\n",
              "       2.870e+01, 4.300e+00, 3.190e+01, 1.188e+02, 1.185e+02, 7.480e+01,\n",
              "       4.880e+01, 1.050e+02, 2.550e+01, 1.420e+02, 3.250e+01, 9.100e+00,\n",
              "       2.160e+01, 6.700e+01, 1.207e+02, 9.730e+01, 1.260e+02, 1.642e+02,\n",
              "       8.200e+01, 2.400e+01, 8.370e+01, 1.230e+02, 8.730e+01, 2.830e+01,\n",
              "       9.420e+01, 1.350e+01, 1.355e+02, 1.232e+02, 2.964e+02, 1.468e+02,\n",
              "       1.001e+02, 1.190e+02, 7.200e+01, 2.510e+01, 9.600e+01, 1.700e+01,\n",
              "       3.930e+01, 3.760e+01, 8.860e+01, 1.599e+02, 1.883e+02, 1.970e+02,\n",
              "       1.556e+02, 5.230e+01, 4.720e+01, 1.610e+01, 1.189e+02, 1.035e+02,\n",
              "       7.260e+01, 3.640e+01, 4.070e+01, 5.510e+01, 6.900e+01, 7.110e+01,\n",
              "       1.796e+02, 3.624e+02, 1.473e+02, 4.890e+01, 1.374e+02, 1.490e+02,\n",
              "       9.300e+01, 3.375e+02, 1.206e+02, 3.145e+02, 4.810e+01, 9.990e+01,\n",
              "       8.130e+01, 4.690e+01, 1.685e+02, 5.260e+01, 2.625e+02, 1.630e+02,\n",
              "       5.620e+01, 1.024e+02, 6.020e+01, 2.746e+02, 1.734e+02, 2.170e+02,\n",
              "       3.750e+01, 1.151e+02, 1.223e+02, 9.070e+01, 1.156e+02, 2.033e+02,\n",
              "       1.831e+02, 4.033e+02, 8.770e+01, 7.550e+01, 6.750e+01, 5.440e+01,\n",
              "       8.220e+01, 2.820e+01, 1.070e+02, 6.500e+01, 2.300e+02, 1.588e+02,\n",
              "       2.684e+02, 3.180e+01, 2.810e+01, 2.285e+02, 9.910e+01, 2.010e+01,\n",
              "       4.620e+01, 6.030e+01, 2.280e+01, 6.870e+01, 9.580e+01, 1.181e+02,\n",
              "       1.502e+02, 8.010e+01, 1.554e+02, 1.452e+02, 1.160e+01, 9.170e+01,\n",
              "       6.260e+01, 1.952e+02, 3.620e+01, 6.850e+01, 3.460e+01, 2.460e+02,\n",
              "       2.214e+02, 1.540e+02, 6.880e+01, 5.500e+00, 7.830e+01, 5.880e+01,\n",
              "       4.100e+00, 2.900e+01, 5.600e+01, 9.530e+01, 1.454e+02, 3.171e+02,\n",
              "       1.982e+02, 4.220e+01, 5.290e+01, 1.110e+01, 1.068e+02, 1.792e+02,\n",
              "       5.770e+01, 1.116e+02, 9.470e+01, 1.209e+02, 7.000e+00, 5.990e+01,\n",
              "       4.630e+01, 1.900e+01, 2.240e+01, 8.580e+01, 9.110e+01, 2.390e+01,\n",
              "       1.341e+02, 1.687e+02, 3.900e+01, 4.760e+01, 2.080e+01, 1.297e+02,\n",
              "       2.680e+01, 1.344e+02, 2.340e+02, 2.112e+02, 1.541e+02, 1.535e+02,\n",
              "       4.210e+02, 1.020e+02, 9.200e+01, 1.250e+02, 5.360e+01, 1.052e+02,\n",
              "       2.440e+01, 1.311e+02, 4.250e+01, 5.910e+01, 4.200e+01, 1.650e+02,\n",
              "       1.350e+02, 3.510e+01, 1.093e+02, 4.380e+01, 1.354e+02, 1.096e+02,\n",
              "       2.450e+01, 6.630e+01, 4.700e+01, 4.740e+01, 2.450e+02, 1.565e+02,\n",
              "       9.740e+01, 9.900e+00, 2.600e+01, 2.299e+02, 8.430e+01, 2.887e+02,\n",
              "       1.377e+02, 2.593e+02, 5.250e+01, 1.154e+02, 8.030e+01, 2.750e+02,\n",
              "       9.800e+00, 9.160e+01, 1.930e+01, 1.920e+02, 3.140e+01, 8.300e+00,\n",
              "       2.688e+02, 2.548e+02, 1.821e+02, 1.275e+02, 1.466e+02, 1.361e+02,\n",
              "       1.671e+02, 2.474e+02, 2.790e+02, 9.180e+01, 1.844e+02, 3.860e+01,\n",
              "       1.840e+01, 7.030e+01, 6.910e+01, 6.940e+01, 2.537e+02, 3.380e+01,\n",
              "       2.320e+02, 5.540e+01, 3.490e+01, 1.940e+02, 4.910e+01, 2.328e+02,\n",
              "       4.260e+01, 1.827e+02, 5.800e+01, 1.611e+02, 8.950e+01, 9.040e+01,\n",
              "       1.088e+02, 1.456e+02, 8.570e+01, 1.410e+02, 4.000e-01, 1.213e+02,\n",
              "       7.320e+01, 7.380e+01, 3.500e+01, 9.520e+01, 3.980e+01, 7.010e+01,\n",
              "       2.635e+02, 2.166e+02, 6.600e+00, 1.253e+02, 5.430e+01, 1.117e+02,\n",
              "       3.200e+01, 3.142e+02, 1.348e+02, 1.040e+02, 5.120e+01, 1.794e+02,\n",
              "       4.900e+01, 6.890e+01, 1.854e+02, 9.400e+01, 1.427e+02, 5.280e+01,\n",
              "       6.620e+01, 1.583e+02, 8.720e+01, 2.260e+01, 8.920e+01])"
            ]
          },
          "metadata": {
            "tags": []
          },
          "execution_count": 5
        }
      ]
    },
    {
      "cell_type": "markdown",
      "metadata": {
        "id": "IzKEvdlHeHSe"
      },
      "source": [
        "*Para llegar a estas dos líneas pase por muchas otras en un borrador. En la primera se guarda en precipitaciones todos los datos de los milímetros de precipitación. Luego en la segunda línea se establece que cada 12 filas haga un promedio, siendo asì la versión reducida del promedio año a año. Para eso me sirvo del atributo groupby que hace agrupaciones, y del index que trabaja con los ìndices de la fila. la instrucción en si es que agrupe las filas cada 12 y haga un promedio. En el año 2020 solo hay cargados 6 meses, ya que es el año que al hacer el trabajo estamos transcurriendo. En el momento que se actualicen los datos en el histórico podra ser mas certero el valor del promedio del 2020*"
      ]
    },
    {
      "cell_type": "code",
      "metadata": {
        "id": "Wkw4tjRmap-j",
        "outputId": "83058129-2e16-4db9-aeab-c372926e6fb4",
        "colab": {
          "base_uri": "https://localhost:8080/"
        }
      },
      "source": [
        "precipitaciones=df['mm']\n",
        "precipitaciones.groupby(df.index//12).mean()"
      ],
      "execution_count": null,
      "outputs": [
        {
          "output_type": "execute_result",
          "data": {
            "text/plain": [
              "0     108.208333\n",
              "1     101.583333\n",
              "2     121.725000\n",
              "3      86.425000\n",
              "4      72.100000\n",
              "5      76.791667\n",
              "6     104.608333\n",
              "7      84.783333\n",
              "8      90.308333\n",
              "9     136.291667\n",
              "10    145.966667\n",
              "11    135.150000\n",
              "12    128.558333\n",
              "13     90.658333\n",
              "14     90.475000\n",
              "15    106.775000\n",
              "16    109.425000\n",
              "17     60.175000\n",
              "18    110.358333\n",
              "19    112.616667\n",
              "20     77.233333\n",
              "21    137.550000\n",
              "22     95.450000\n",
              "23    165.283333\n",
              "24     96.400000\n",
              "25    102.000000\n",
              "26     99.408333\n",
              "27    122.741667\n",
              "28    100.650000\n",
              "29     79.383333\n",
              "Name: mm, dtype: float64"
            ]
          },
          "metadata": {
            "tags": []
          },
          "execution_count": 193
        }
      ]
    },
    {
      "cell_type": "markdown",
      "metadata": {
        "id": "0bdpQMXxsosZ"
      },
      "source": [
        "*Ahora sacamos el promedio de cada mes, a lo largo de los 29 años*"
      ]
    },
    {
      "cell_type": "code",
      "metadata": {
        "id": "4t22w-iRy1G_",
        "outputId": "106d5ea6-ebb1-4d73-d735-d680113bc2b4",
        "colab": {
          "base_uri": "https://localhost:8080/",
          "height": 948
        }
      },
      "source": [
        "df_january=df[(df['mes'] == 'Enero')]\n",
        "df_january.head(29)\n"
      ],
      "execution_count": null,
      "outputs": [
        {
          "output_type": "execute_result",
          "data": {
            "text/html": [
              "<div>\n",
              "<style scoped>\n",
              "    .dataframe tbody tr th:only-of-type {\n",
              "        vertical-align: middle;\n",
              "    }\n",
              "\n",
              "    .dataframe tbody tr th {\n",
              "        vertical-align: top;\n",
              "    }\n",
              "\n",
              "    .dataframe thead th {\n",
              "        text-align: right;\n",
              "    }\n",
              "</style>\n",
              "<table border=\"1\" class=\"dataframe\">\n",
              "  <thead>\n",
              "    <tr style=\"text-align: right;\">\n",
              "      <th></th>\n",
              "      <th>año</th>\n",
              "      <th>mes</th>\n",
              "      <th>mm</th>\n",
              "      <th>días</th>\n",
              "    </tr>\n",
              "  </thead>\n",
              "  <tbody>\n",
              "    <tr>\n",
              "      <th>0</th>\n",
              "      <td>1991</td>\n",
              "      <td>Enero</td>\n",
              "      <td>190.0</td>\n",
              "      <td>7</td>\n",
              "    </tr>\n",
              "    <tr>\n",
              "      <th>12</th>\n",
              "      <td>1992</td>\n",
              "      <td>Enero</td>\n",
              "      <td>111.9</td>\n",
              "      <td>9</td>\n",
              "    </tr>\n",
              "    <tr>\n",
              "      <th>24</th>\n",
              "      <td>1993</td>\n",
              "      <td>Enero</td>\n",
              "      <td>122.5</td>\n",
              "      <td>6</td>\n",
              "    </tr>\n",
              "    <tr>\n",
              "      <th>36</th>\n",
              "      <td>1994</td>\n",
              "      <td>Enero</td>\n",
              "      <td>73.3</td>\n",
              "      <td>10</td>\n",
              "    </tr>\n",
              "    <tr>\n",
              "      <th>48</th>\n",
              "      <td>1995</td>\n",
              "      <td>Enero</td>\n",
              "      <td>49.3</td>\n",
              "      <td>5</td>\n",
              "    </tr>\n",
              "    <tr>\n",
              "      <th>60</th>\n",
              "      <td>1996</td>\n",
              "      <td>Enero</td>\n",
              "      <td>48.8</td>\n",
              "      <td>10</td>\n",
              "    </tr>\n",
              "    <tr>\n",
              "      <th>72</th>\n",
              "      <td>1997</td>\n",
              "      <td>Enero</td>\n",
              "      <td>164.2</td>\n",
              "      <td>10</td>\n",
              "    </tr>\n",
              "    <tr>\n",
              "      <th>84</th>\n",
              "      <td>1998</td>\n",
              "      <td>Enero</td>\n",
              "      <td>146.8</td>\n",
              "      <td>8</td>\n",
              "    </tr>\n",
              "    <tr>\n",
              "      <th>96</th>\n",
              "      <td>1999</td>\n",
              "      <td>Enero</td>\n",
              "      <td>188.3</td>\n",
              "      <td>15</td>\n",
              "    </tr>\n",
              "    <tr>\n",
              "      <th>108</th>\n",
              "      <td>2000</td>\n",
              "      <td>Enero</td>\n",
              "      <td>159.9</td>\n",
              "      <td>7</td>\n",
              "    </tr>\n",
              "    <tr>\n",
              "      <th>120</th>\n",
              "      <td>2001</td>\n",
              "      <td>Enero</td>\n",
              "      <td>337.5</td>\n",
              "      <td>9</td>\n",
              "    </tr>\n",
              "    <tr>\n",
              "      <th>132</th>\n",
              "      <td>2002</td>\n",
              "      <td>Enero</td>\n",
              "      <td>102.4</td>\n",
              "      <td>10</td>\n",
              "    </tr>\n",
              "    <tr>\n",
              "      <th>144</th>\n",
              "      <td>2003</td>\n",
              "      <td>Enero</td>\n",
              "      <td>183.1</td>\n",
              "      <td>10</td>\n",
              "    </tr>\n",
              "    <tr>\n",
              "      <th>156</th>\n",
              "      <td>2004</td>\n",
              "      <td>Enero</td>\n",
              "      <td>268.4</td>\n",
              "      <td>13</td>\n",
              "    </tr>\n",
              "    <tr>\n",
              "      <th>168</th>\n",
              "      <td>2005</td>\n",
              "      <td>Enero</td>\n",
              "      <td>150.2</td>\n",
              "      <td>11</td>\n",
              "    </tr>\n",
              "    <tr>\n",
              "      <th>180</th>\n",
              "      <td>2006</td>\n",
              "      <td>Enero</td>\n",
              "      <td>246.0</td>\n",
              "      <td>15</td>\n",
              "    </tr>\n",
              "    <tr>\n",
              "      <th>192</th>\n",
              "      <td>2007</td>\n",
              "      <td>Enero</td>\n",
              "      <td>95.3</td>\n",
              "      <td>17</td>\n",
              "    </tr>\n",
              "    <tr>\n",
              "      <th>204</th>\n",
              "      <td>2008</td>\n",
              "      <td>Enero</td>\n",
              "      <td>111.6</td>\n",
              "      <td>12</td>\n",
              "    </tr>\n",
              "    <tr>\n",
              "      <th>216</th>\n",
              "      <td>2009</td>\n",
              "      <td>Enero</td>\n",
              "      <td>23.9</td>\n",
              "      <td>9</td>\n",
              "    </tr>\n",
              "    <tr>\n",
              "      <th>228</th>\n",
              "      <td>2010</td>\n",
              "      <td>Enero</td>\n",
              "      <td>153.5</td>\n",
              "      <td>13</td>\n",
              "    </tr>\n",
              "    <tr>\n",
              "      <th>240</th>\n",
              "      <td>2011</td>\n",
              "      <td>Enero</td>\n",
              "      <td>165.0</td>\n",
              "      <td>13</td>\n",
              "    </tr>\n",
              "    <tr>\n",
              "      <th>252</th>\n",
              "      <td>2012</td>\n",
              "      <td>Enero</td>\n",
              "      <td>47.4</td>\n",
              "      <td>7</td>\n",
              "    </tr>\n",
              "    <tr>\n",
              "      <th>264</th>\n",
              "      <td>2013</td>\n",
              "      <td>Enero</td>\n",
              "      <td>52.5</td>\n",
              "      <td>7</td>\n",
              "    </tr>\n",
              "    <tr>\n",
              "      <th>276</th>\n",
              "      <td>2014</td>\n",
              "      <td>Enero</td>\n",
              "      <td>268.8</td>\n",
              "      <td>13</td>\n",
              "    </tr>\n",
              "    <tr>\n",
              "      <th>288</th>\n",
              "      <td>2015</td>\n",
              "      <td>Enero</td>\n",
              "      <td>184.4</td>\n",
              "      <td>14</td>\n",
              "    </tr>\n",
              "    <tr>\n",
              "      <th>300</th>\n",
              "      <td>2016</td>\n",
              "      <td>Enero</td>\n",
              "      <td>34.9</td>\n",
              "      <td>6</td>\n",
              "    </tr>\n",
              "    <tr>\n",
              "      <th>312</th>\n",
              "      <td>2017</td>\n",
              "      <td>Enero</td>\n",
              "      <td>108.8</td>\n",
              "      <td>8</td>\n",
              "    </tr>\n",
              "    <tr>\n",
              "      <th>324</th>\n",
              "      <td>2018</td>\n",
              "      <td>Enero</td>\n",
              "      <td>49.3</td>\n",
              "      <td>7</td>\n",
              "    </tr>\n",
              "    <tr>\n",
              "      <th>336</th>\n",
              "      <td>2019</td>\n",
              "      <td>Enero</td>\n",
              "      <td>134.8</td>\n",
              "      <td>12</td>\n",
              "    </tr>\n",
              "  </tbody>\n",
              "</table>\n",
              "</div>"
            ],
            "text/plain": [
              "      año    mes     mm  días\n",
              "0    1991  Enero  190.0     7\n",
              "12   1992  Enero  111.9     9\n",
              "24   1993  Enero  122.5     6\n",
              "36   1994  Enero   73.3    10\n",
              "48   1995  Enero   49.3     5\n",
              "60   1996  Enero   48.8    10\n",
              "72   1997  Enero  164.2    10\n",
              "84   1998  Enero  146.8     8\n",
              "96   1999  Enero  188.3    15\n",
              "108  2000  Enero  159.9     7\n",
              "120  2001  Enero  337.5     9\n",
              "132  2002  Enero  102.4    10\n",
              "144  2003  Enero  183.1    10\n",
              "156  2004  Enero  268.4    13\n",
              "168  2005  Enero  150.2    11\n",
              "180  2006  Enero  246.0    15\n",
              "192  2007  Enero   95.3    17\n",
              "204  2008  Enero  111.6    12\n",
              "216  2009  Enero   23.9     9\n",
              "228  2010  Enero  153.5    13\n",
              "240  2011  Enero  165.0    13\n",
              "252  2012  Enero   47.4     7\n",
              "264  2013  Enero   52.5     7\n",
              "276  2014  Enero  268.8    13\n",
              "288  2015  Enero  184.4    14\n",
              "300  2016  Enero   34.9     6\n",
              "312  2017  Enero  108.8     8\n",
              "324  2018  Enero   49.3     7\n",
              "336  2019  Enero  134.8    12"
            ]
          },
          "metadata": {
            "tags": []
          },
          "execution_count": 62
        }
      ]
    },
    {
      "cell_type": "markdown",
      "metadata": {
        "id": "IPbJMqxxNfzw"
      },
      "source": [
        "*Acá logro hacer el promedio probando y viendo videos,y reducir y especificar en una solo una línea al código que me brinda el promedio. Uso de nuevo el atributo groupby, y luego llamamos a las columnas mes y milímetro para establecer con la función mean que quiero sacar el promedio de todo lo que se llame Enero*\n",
        "\n"
      ]
    },
    {
      "cell_type": "code",
      "metadata": {
        "id": "nDq-w_ANMXzo",
        "outputId": "e2f5b17a-938f-4d24-a56b-707df1191b25",
        "colab": {
          "base_uri": "https://localhost:8080/"
        }
      },
      "source": [
        "df.groupby('mes')['mm'].mean()['Enero']"
      ],
      "execution_count": null,
      "outputs": [
        {
          "output_type": "execute_result",
          "data": {
            "text/plain": [
              "134.1866666666667"
            ]
          },
          "metadata": {
            "tags": []
          },
          "execution_count": 104
        }
      ]
    },
    {
      "cell_type": "markdown",
      "metadata": {
        "id": "Fgu9A-AtUcDH"
      },
      "source": [
        "*Probamos el mismo código por los meses restantes*"
      ]
    },
    {
      "cell_type": "code",
      "metadata": {
        "id": "WQ111QGpN0yF",
        "outputId": "60dcffc7-d414-4139-edff-6a5d051f64f3",
        "colab": {
          "base_uri": "https://localhost:8080/"
        }
      },
      "source": [
        "df.groupby('mes')['mm'].mean()['Febrero']"
      ],
      "execution_count": null,
      "outputs": [
        {
          "output_type": "execute_result",
          "data": {
            "text/plain": [
              "129.56"
            ]
          },
          "metadata": {
            "tags": []
          },
          "execution_count": 108
        }
      ]
    },
    {
      "cell_type": "code",
      "metadata": {
        "id": "egsJxqHpN6Ru",
        "outputId": "5609cccd-5173-4ee6-b1b1-3e15dc1d420b",
        "colab": {
          "base_uri": "https://localhost:8080/"
        }
      },
      "source": [
        "df.groupby('mes')['mm'].mean()['Marzo']"
      ],
      "execution_count": null,
      "outputs": [
        {
          "output_type": "execute_result",
          "data": {
            "text/plain": [
              "119.81333333333333"
            ]
          },
          "metadata": {
            "tags": []
          },
          "execution_count": 109
        }
      ]
    },
    {
      "cell_type": "code",
      "metadata": {
        "id": "IfMQWFhGN_oo",
        "outputId": "e64fc441-6b10-43b8-d6a3-79e681248da7",
        "colab": {
          "base_uri": "https://localhost:8080/"
        }
      },
      "source": [
        "df.groupby('mes')['mm'].mean()['Abril']"
      ],
      "execution_count": null,
      "outputs": [
        {
          "output_type": "execute_result",
          "data": {
            "text/plain": [
              "130.19666666666666"
            ]
          },
          "metadata": {
            "tags": []
          },
          "execution_count": 110
        }
      ]
    },
    {
      "cell_type": "code",
      "metadata": {
        "id": "KaARd0FCN4jc",
        "outputId": "8bf06165-d826-4d4c-866e-ca654a2ea0ae",
        "colab": {
          "base_uri": "https://localhost:8080/"
        }
      },
      "source": [
        "df.groupby('mes')['mm'].mean()['Mayo']"
      ],
      "execution_count": null,
      "outputs": [
        {
          "output_type": "execute_result",
          "data": {
            "text/plain": [
              "93.40999999999998"
            ]
          },
          "metadata": {
            "tags": []
          },
          "execution_count": 111
        }
      ]
    },
    {
      "cell_type": "code",
      "metadata": {
        "id": "Fc7PG20bOIMz",
        "outputId": "a043204a-46a8-4de1-e2a7-176021bdec55",
        "colab": {
          "base_uri": "https://localhost:8080/"
        }
      },
      "source": [
        "df.groupby('mes')['mm'].mean()['Junio']"
      ],
      "execution_count": null,
      "outputs": [
        {
          "output_type": "execute_result",
          "data": {
            "text/plain": [
              "61.85000000000001"
            ]
          },
          "metadata": {
            "tags": []
          },
          "execution_count": 112
        }
      ]
    },
    {
      "cell_type": "code",
      "metadata": {
        "id": "G7PRNgbnOL1V",
        "outputId": "3f60ec9c-0e06-4388-d56b-3615156dcc6d",
        "colab": {
          "base_uri": "https://localhost:8080/"
        }
      },
      "source": [
        "df.groupby('mes')['mm'].mean()['Julio']"
      ],
      "execution_count": null,
      "outputs": [
        {
          "output_type": "execute_result",
          "data": {
            "text/plain": [
              "76.98620689655172"
            ]
          },
          "metadata": {
            "tags": []
          },
          "execution_count": 113
        }
      ]
    },
    {
      "cell_type": "code",
      "metadata": {
        "id": "-Qk-s2ZgORUy",
        "outputId": "332b301d-44f8-4c1f-cc57-94cb095f12c6",
        "colab": {
          "base_uri": "https://localhost:8080/"
        }
      },
      "source": [
        "df.groupby('mes')['mm'].mean()['Agosto']"
      ],
      "execution_count": null,
      "outputs": [
        {
          "output_type": "execute_result",
          "data": {
            "text/plain": [
              "72.12413793103448"
            ]
          },
          "metadata": {
            "tags": []
          },
          "execution_count": 114
        }
      ]
    },
    {
      "cell_type": "code",
      "metadata": {
        "id": "io2baH-yPMsC",
        "outputId": "a860b926-1362-4ed8-e12c-76289ab21f4f",
        "colab": {
          "base_uri": "https://localhost:8080/"
        }
      },
      "source": [
        "df.groupby('mes')['mm'].mean()['Septiembre']"
      ],
      "execution_count": null,
      "outputs": [
        {
          "output_type": "execute_result",
          "data": {
            "text/plain": [
              "79.61724137931033"
            ]
          },
          "metadata": {
            "tags": []
          },
          "execution_count": 116
        }
      ]
    },
    {
      "cell_type": "code",
      "metadata": {
        "id": "Hs6OXs9wPTlZ",
        "outputId": "5c4cca48-c485-497b-9603-5bb9cfc521df",
        "colab": {
          "base_uri": "https://localhost:8080/"
        }
      },
      "source": [
        "df.groupby('mes')['mm'].mean()['Octubre']"
      ],
      "execution_count": null,
      "outputs": [
        {
          "output_type": "execute_result",
          "data": {
            "text/plain": [
              "122.8034482758621"
            ]
          },
          "metadata": {
            "tags": []
          },
          "execution_count": 117
        }
      ]
    },
    {
      "cell_type": "code",
      "metadata": {
        "id": "lE0e6foNPaL1",
        "outputId": "766cacd3-7df2-43bc-a04d-ceed461883ea",
        "colab": {
          "base_uri": "https://localhost:8080/"
        }
      },
      "source": [
        "df.groupby('mes')['mm'].mean()['Noviembre']"
      ],
      "execution_count": null,
      "outputs": [
        {
          "output_type": "execute_result",
          "data": {
            "text/plain": [
              "119.6206896551724"
            ]
          },
          "metadata": {
            "tags": []
          },
          "execution_count": 118
        }
      ]
    },
    {
      "cell_type": "code",
      "metadata": {
        "id": "GF0q0DDWPj78",
        "outputId": "b87c8c6a-169d-4936-9b31-3267c5ebd65e",
        "colab": {
          "base_uri": "https://localhost:8080/"
        }
      },
      "source": [
        "df.groupby('mes')['mm'].mean()['Diciembre']"
      ],
      "execution_count": 23,
      "outputs": [
        {
          "output_type": "execute_result",
          "data": {
            "text/plain": [
              "123.40689655172415"
            ]
          },
          "metadata": {
            "tags": []
          },
          "execution_count": 23
        }
      ]
    },
    {
      "cell_type": "markdown",
      "metadata": {
        "id": "lwOdeOD9Dgti"
      },
      "source": [
        "*Ahora tomaremos cada tres meses de los datos del promedio mensual para poder calcular los promedios estacionales*"
      ]
    },
    {
      "cell_type": "code",
      "metadata": {
        "id": "dO6KT81MJZ5U",
        "outputId": "ffa06937-a6ae-4dc2-d83d-3c60230b0b66",
        "colab": {
          "base_uri": "https://localhost:8080/"
        }
      },
      "source": [
        "verano=pd.DataFrame({\"meses\":[\"diciembre\",\"enero\",\"febrero\"],\"lluvia\":[\"123.40689655172415\",\"134.1866666666667\",\"9129.56\"]})\n",
        "\n",
        "print(verano)\n",
        "\n",
        "prom=(123.40689655172415+134.1866666666667+129.56)/3\n",
        "print()\n",
        "print(\"En verano el porcentaje de precipitaciones fue: \"+str(prom))"
      ],
      "execution_count": 197,
      "outputs": [
        {
          "output_type": "stream",
          "text": [
            "       meses              lluvia\n",
            "0  diciembre  123.40689655172415\n",
            "1      enero   134.1866666666667\n",
            "2    febrero             9129.56\n",
            "\n",
            "En verano el porcentaje de precipitaciones fue: 129.05118773946361\n"
          ],
          "name": "stdout"
        }
      ]
    },
    {
      "cell_type": "code",
      "metadata": {
        "id": "HmBAdDXVO7_I",
        "outputId": "15188d48-a57d-45c9-8fda-71cd9bceb130",
        "colab": {
          "base_uri": "https://localhost:8080/"
        }
      },
      "source": [
        "otoño=pd.DataFrame({\"meses\":[\"marzo\",\"abril\",\"mayo\"],\"lluvia\":[\"119.813333\",\" 130.196667\",\"93.410000\"]})\n",
        "\n",
        "print(otoño)\n",
        "\n",
        "prom=(119.813333+ 130.196667+93.410000)/3\n",
        "print()\n",
        "print(\"En otoño el porcentaje de precipitaciones fue: \"+str(prom))"
      ],
      "execution_count": 198,
      "outputs": [
        {
          "output_type": "stream",
          "text": [
            "   meses       lluvia\n",
            "0  marzo   119.813333\n",
            "1  abril   130.196667\n",
            "2   mayo    93.410000\n",
            "\n",
            "En otoño el porcentaje de precipitaciones fue: 114.47333333333331\n"
          ],
          "name": "stdout"
        }
      ]
    },
    {
      "cell_type": "code",
      "metadata": {
        "id": "-s_cXhRxRFeU",
        "outputId": "02751df2-5875-43b7-c725-430ed096156a",
        "colab": {
          "base_uri": "https://localhost:8080/"
        }
      },
      "source": [
        "invierno=pd.DataFrame({\"meses\":[\"junio\",\"julio\",\"agosto\"],\"lluvia\":[\"61.850000\",\"76.986207\",\"72.124138\"]})\n",
        "\n",
        "print(invierno)\n",
        "\n",
        "prom=(61.850000+76.986207+72.124138)/3\n",
        "print()\n",
        "print(\"En invierno el porcentaje de precipitaciones fue: \"+str(prom))"
      ],
      "execution_count": 199,
      "outputs": [
        {
          "output_type": "stream",
          "text": [
            "    meses     lluvia\n",
            "0   junio  61.850000\n",
            "1   julio  76.986207\n",
            "2  agosto  72.124138\n",
            "\n",
            "En invierno el porcentaje de precipitaciones fue: 70.320115\n"
          ],
          "name": "stdout"
        }
      ]
    },
    {
      "cell_type": "code",
      "metadata": {
        "id": "37JknKzQRq0Q",
        "outputId": "e01134ea-fb18-4190-c1b0-d86c8c794731",
        "colab": {
          "base_uri": "https://localhost:8080/"
        }
      },
      "source": [
        "primavera=pd.DataFrame({\"meses\":[\"septiembre\",\"octubre\",\"noviembre\"],\"lluvia\":[\"79.617241\",\"122.803448\",\"119.620690\"]})\n",
        "\n",
        "print(primavera)\n",
        "\n",
        "prom=(79.617241+122.803448+119.620690)/3\n",
        "print()\n",
        "print(\"En primavera el porcentaje de precipitaciones fue: \"+str(prom))"
      ],
      "execution_count": 200,
      "outputs": [
        {
          "output_type": "stream",
          "text": [
            "        meses      lluvia\n",
            "0  septiembre   79.617241\n",
            "1     octubre  122.803448\n",
            "2   noviembre  119.620690\n",
            "\n",
            "En primavera el porcentaje de precipitaciones fue: 107.34712633333334\n"
          ],
          "name": "stdout"
        }
      ]
    },
    {
      "cell_type": "markdown",
      "metadata": {
        "id": "QyHuGAKkjpYf"
      },
      "source": [
        "**Temperaturas**"
      ]
    },
    {
      "cell_type": "markdown",
      "metadata": {
        "id": "y-vxvO8Cho0X"
      },
      "source": [
        "*Cargo los datos de temperatura en otro dataframe para poder hacer las operaciones de promedios con sus datos*"
      ]
    },
    {
      "cell_type": "code",
      "metadata": {
        "id": "x71FfzQah1CY"
      },
      "source": [
        "df2=pd.read_csv('/content/drive/My Drive/Colab Notebooks/historico_temperaturas.csv')"
      ],
      "execution_count": 109,
      "outputs": []
    },
    {
      "cell_type": "code",
      "metadata": {
        "id": "Qt2Z5np1kQsX",
        "outputId": "09d476ca-0d44-440c-b4b6-30b4ccd7b083",
        "colab": {
          "base_uri": "https://localhost:8080/",
          "height": 204
        }
      },
      "source": [
        "df2.head()"
      ],
      "execution_count": 110,
      "outputs": [
        {
          "output_type": "execute_result",
          "data": {
            "text/html": [
              "<div>\n",
              "<style scoped>\n",
              "    .dataframe tbody tr th:only-of-type {\n",
              "        vertical-align: middle;\n",
              "    }\n",
              "\n",
              "    .dataframe tbody tr th {\n",
              "        vertical-align: top;\n",
              "    }\n",
              "\n",
              "    .dataframe thead th {\n",
              "        text-align: right;\n",
              "    }\n",
              "</style>\n",
              "<table border=\"1\" class=\"dataframe\">\n",
              "  <thead>\n",
              "    <tr style=\"text-align: right;\">\n",
              "      <th></th>\n",
              "      <th>año</th>\n",
              "      <th>mes</th>\n",
              "      <th>máxima</th>\n",
              "      <th>mínima</th>\n",
              "      <th>media</th>\n",
              "    </tr>\n",
              "  </thead>\n",
              "  <tbody>\n",
              "    <tr>\n",
              "      <th>0</th>\n",
              "      <td>1991</td>\n",
              "      <td>Enero</td>\n",
              "      <td>28.4</td>\n",
              "      <td>19.8</td>\n",
              "      <td>24.10</td>\n",
              "    </tr>\n",
              "    <tr>\n",
              "      <th>1</th>\n",
              "      <td>1991</td>\n",
              "      <td>Febrero</td>\n",
              "      <td>27.8</td>\n",
              "      <td>17.8</td>\n",
              "      <td>22.80</td>\n",
              "    </tr>\n",
              "    <tr>\n",
              "      <th>2</th>\n",
              "      <td>1991</td>\n",
              "      <td>Marzo</td>\n",
              "      <td>27.6</td>\n",
              "      <td>18.4</td>\n",
              "      <td>23.00</td>\n",
              "    </tr>\n",
              "    <tr>\n",
              "      <th>3</th>\n",
              "      <td>1991</td>\n",
              "      <td>Abril</td>\n",
              "      <td>22.4</td>\n",
              "      <td>13.6</td>\n",
              "      <td>18.00</td>\n",
              "    </tr>\n",
              "    <tr>\n",
              "      <th>4</th>\n",
              "      <td>1991</td>\n",
              "      <td>Mayo</td>\n",
              "      <td>20.7</td>\n",
              "      <td>12.2</td>\n",
              "      <td>16.45</td>\n",
              "    </tr>\n",
              "  </tbody>\n",
              "</table>\n",
              "</div>"
            ],
            "text/plain": [
              "    año      mes  máxima  mínima  media\n",
              "0  1991    Enero    28.4    19.8  24.10\n",
              "1  1991  Febrero    27.8    17.8  22.80\n",
              "2  1991    Marzo    27.6    18.4  23.00\n",
              "3  1991    Abril    22.4    13.6  18.00\n",
              "4  1991     Mayo    20.7    12.2  16.45"
            ]
          },
          "metadata": {
            "tags": []
          },
          "execution_count": 110
        }
      ]
    },
    {
      "cell_type": "markdown",
      "metadata": {
        "id": "gVgbP_Ii3w0T"
      },
      "source": [
        "*Saco el promedio anual desde 1991 hasta los datos conseguidos de 2020, utilizando la media de temperaturas* **texto en negrita**"
      ]
    },
    {
      "cell_type": "code",
      "metadata": {
        "id": "iuZiFBNTkCr3",
        "outputId": "0635c8f4-8ee0-4dce-ab33-e95b03db9793",
        "colab": {
          "base_uri": "https://localhost:8080/"
        }
      },
      "source": [
        "temperaturas=df2['media']\n",
        "temperaturas.groupby(df2.index//12).mean()"
      ],
      "execution_count": 111,
      "outputs": [
        {
          "output_type": "execute_result",
          "data": {
            "text/plain": [
              "0     17.941667\n",
              "1     17.829167\n",
              "2     17.829167\n",
              "3     18.525000\n",
              "4     18.175000\n",
              "5     18.537500\n",
              "6     18.862500\n",
              "7     17.700000\n",
              "8     17.925000\n",
              "9     17.958333\n",
              "10    18.375000\n",
              "11    18.258333\n",
              "12    18.004167\n",
              "13    18.445833\n",
              "14    18.250000\n",
              "15    18.529167\n",
              "16    17.683333\n",
              "17    19.033333\n",
              "18    18.620417\n",
              "19    18.437500\n",
              "20    18.287500\n",
              "21    18.700000\n",
              "22    18.529167\n",
              "23    18.608333\n",
              "24    18.862500\n",
              "25    18.104167\n",
              "26    19.079167\n",
              "27    18.904167\n",
              "28    18.883333\n",
              "29    20.133333\n",
              "Name: media, dtype: float64"
            ]
          },
          "metadata": {
            "tags": []
          },
          "execution_count": 111
        }
      ]
    },
    {
      "cell_type": "markdown",
      "metadata": {
        "id": "aa6wlpfy3oFJ"
      },
      "source": [
        "*Ahora saco el promedio mensual de temperaturas*"
      ]
    },
    {
      "cell_type": "code",
      "metadata": {
        "id": "oWPDurZxksY1",
        "outputId": "a9230ffb-0e8b-49fd-b087-3ba3a3018c0e",
        "colab": {
          "base_uri": "https://localhost:8080/"
        }
      },
      "source": [
        "df2.groupby('mes')['media'].mean()['Enero']"
      ],
      "execution_count": null,
      "outputs": [
        {
          "output_type": "execute_result",
          "data": {
            "text/plain": [
              "25.11666666666667"
            ]
          },
          "metadata": {
            "tags": []
          },
          "execution_count": 88
        }
      ]
    },
    {
      "cell_type": "code",
      "metadata": {
        "id": "L7mJ2dqqk3Iz",
        "outputId": "2059a8f7-39f3-4370-f20c-0e56006fe88e",
        "colab": {
          "base_uri": "https://localhost:8080/"
        }
      },
      "source": [
        "df2.groupby('mes')['media'].mean()['Febrero']"
      ],
      "execution_count": null,
      "outputs": [
        {
          "output_type": "execute_result",
          "data": {
            "text/plain": [
              "24.118333333333336"
            ]
          },
          "metadata": {
            "tags": []
          },
          "execution_count": 89
        }
      ]
    },
    {
      "cell_type": "code",
      "metadata": {
        "id": "T094iknfk8-k",
        "outputId": "41003311-11cc-431a-e383-acffdaa8e3a3",
        "colab": {
          "base_uri": "https://localhost:8080/"
        }
      },
      "source": [
        "df2.groupby('mes')['media'].mean()['Marzo']"
      ],
      "execution_count": null,
      "outputs": [
        {
          "output_type": "execute_result",
          "data": {
            "text/plain": [
              "22.32833333333334"
            ]
          },
          "metadata": {
            "tags": []
          },
          "execution_count": 90
        }
      ]
    },
    {
      "cell_type": "code",
      "metadata": {
        "id": "PUQW6SN2lArr",
        "outputId": "be8b9a30-8372-4122-b991-11bf7a58a71a",
        "colab": {
          "base_uri": "https://localhost:8080/"
        }
      },
      "source": [
        "df2.groupby('mes')['media'].mean()['Abril']"
      ],
      "execution_count": null,
      "outputs": [
        {
          "output_type": "execute_result",
          "data": {
            "text/plain": [
              "18.65833333333334"
            ]
          },
          "metadata": {
            "tags": []
          },
          "execution_count": 91
        }
      ]
    },
    {
      "cell_type": "code",
      "metadata": {
        "id": "0nhpKVUElEVk",
        "outputId": "6484c384-3595-49f5-bfad-1b30f8724dde",
        "colab": {
          "base_uri": "https://localhost:8080/"
        }
      },
      "source": [
        "df2.groupby('mes')['media'].mean()['Mayo']"
      ],
      "execution_count": null,
      "outputs": [
        {
          "output_type": "execute_result",
          "data": {
            "text/plain": [
              "15.263333333333332"
            ]
          },
          "metadata": {
            "tags": []
          },
          "execution_count": 92
        }
      ]
    },
    {
      "cell_type": "code",
      "metadata": {
        "id": "EC1SVb_IlROl",
        "outputId": "5f203d2f-e19a-4721-814a-631bae242fa9",
        "colab": {
          "base_uri": "https://localhost:8080/"
        }
      },
      "source": [
        "df2.groupby('mes')['media'].mean()['Junio']"
      ],
      "execution_count": null,
      "outputs": [
        {
          "output_type": "execute_result",
          "data": {
            "text/plain": [
              "12.379999999999999"
            ]
          },
          "metadata": {
            "tags": []
          },
          "execution_count": 93
        }
      ]
    },
    {
      "cell_type": "code",
      "metadata": {
        "id": "kUKSF_EwlUEq",
        "outputId": "dc9da072-bfca-478b-c7b0-1e2b927643fb",
        "colab": {
          "base_uri": "https://localhost:8080/"
        }
      },
      "source": [
        "df2.groupby('mes')['media'].mean()['Julio']"
      ],
      "execution_count": null,
      "outputs": [
        {
          "output_type": "execute_result",
          "data": {
            "text/plain": [
              "11.562068965517241"
            ]
          },
          "metadata": {
            "tags": []
          },
          "execution_count": 94
        }
      ]
    },
    {
      "cell_type": "code",
      "metadata": {
        "id": "DB9AySkmlYFL",
        "outputId": "0fa4d2db-6b7c-48be-cbc7-97c2ef874fd7",
        "colab": {
          "base_uri": "https://localhost:8080/"
        }
      },
      "source": [
        "df2.groupby('mes')['media'].mean()['Agosto']"
      ],
      "execution_count": null,
      "outputs": [
        {
          "output_type": "execute_result",
          "data": {
            "text/plain": [
              "13.356724137931034"
            ]
          },
          "metadata": {
            "tags": []
          },
          "execution_count": 95
        }
      ]
    },
    {
      "cell_type": "code",
      "metadata": {
        "id": "6Bs75Exzldhq",
        "outputId": "d1d7fea7-aef5-4b75-b048-eda889b46612",
        "colab": {
          "base_uri": "https://localhost:8080/"
        }
      },
      "source": [
        "df2.groupby('mes')['media'].mean()['Septiembre']"
      ],
      "execution_count": null,
      "outputs": [
        {
          "output_type": "execute_result",
          "data": {
            "text/plain": [
              "15.151724137931033"
            ]
          },
          "metadata": {
            "tags": []
          },
          "execution_count": 96
        }
      ]
    },
    {
      "cell_type": "code",
      "metadata": {
        "id": "JUZlHiwYlj_t",
        "outputId": "f6da1274-4b46-40e8-85bc-f3200fb82a31",
        "colab": {
          "base_uri": "https://localhost:8080/"
        }
      },
      "source": [
        "df2.groupby('mes')['media'].mean()['Octubre']"
      ],
      "execution_count": null,
      "outputs": [
        {
          "output_type": "execute_result",
          "data": {
            "text/plain": [
              "17.96551724137931"
            ]
          },
          "metadata": {
            "tags": []
          },
          "execution_count": 97
        }
      ]
    },
    {
      "cell_type": "code",
      "metadata": {
        "id": "fXIK57Bwln11",
        "outputId": "56427755-fc7d-4ec8-cf10-a63b246fbaf4",
        "colab": {
          "base_uri": "https://localhost:8080/"
        }
      },
      "source": [
        "df2.groupby('mes')['media'].mean()['Noviembre']"
      ],
      "execution_count": null,
      "outputs": [
        {
          "output_type": "execute_result",
          "data": {
            "text/plain": [
              "20.968965517241383"
            ]
          },
          "metadata": {
            "tags": []
          },
          "execution_count": 99
        }
      ]
    },
    {
      "cell_type": "code",
      "metadata": {
        "id": "qkj1BeNQlt0U",
        "outputId": "0001e511-f09b-44d4-aeb4-b56b7b256ae5",
        "colab": {
          "base_uri": "https://localhost:8080/"
        }
      },
      "source": [
        "df2.groupby('mes')['media'].mean()['Diciembre']"
      ],
      "execution_count": null,
      "outputs": [
        {
          "output_type": "execute_result",
          "data": {
            "text/plain": [
              "23.73275862068966"
            ]
          },
          "metadata": {
            "tags": []
          },
          "execution_count": 100
        }
      ]
    },
    {
      "cell_type": "markdown",
      "metadata": {
        "id": "tcPBY8OvTJfd"
      },
      "source": [
        "*Ahora sacaremos los promedios estacionales basados en los mensuales generales*"
      ]
    },
    {
      "cell_type": "code",
      "metadata": {
        "id": "X40AWlIlTRPK",
        "outputId": "25ef1107-c333-4354-e161-9e3ea80e9c36",
        "colab": {
          "base_uri": "https://localhost:8080/"
        }
      },
      "source": [
        "verano=pd.DataFrame({\"meses\":[\"diciembre\",\"enero\",\"febrero\"],\"temperatura\":[\"23.732759\",\"25.116667\",\"24.118333\"]})\n",
        "\n",
        "print(verano)\n",
        "\n",
        "prom=(23.732759+25.116667+24.118333)/3\n",
        "print()\n",
        "print(\"En verano el porcentaje de temperaturas fue: \"+str(prom))"
      ],
      "execution_count": 195,
      "outputs": [
        {
          "output_type": "stream",
          "text": [
            "       meses temperatura\n",
            "0  diciembre   23.732759\n",
            "1      enero   25.116667\n",
            "2    febrero   24.118333\n",
            "\n",
            "En verano el porcentaje de temperaturas fue: 24.322586333333334\n"
          ],
          "name": "stdout"
        }
      ]
    },
    {
      "cell_type": "code",
      "metadata": {
        "id": "A4LN2s81TYj3",
        "outputId": "1b4aef1d-be69-46d8-9ea5-5916c629b435",
        "colab": {
          "base_uri": "https://localhost:8080/"
        }
      },
      "source": [
        "otoño=pd.DataFrame({\"meses\":[\"marzo\",\"abril\",\"mayo\"],\"lluvia\":[\"22.328333\",\"18.658333\",\"15.263333\"]})\n",
        "\n",
        "print(otoño)\n",
        "\n",
        "prom=(22.328333+18.658333+15.263333)/3\n",
        "print()\n",
        "print(\"En otoño el porcentaje de temperaturas fue: \"+str(prom))"
      ],
      "execution_count": 194,
      "outputs": [
        {
          "output_type": "stream",
          "text": [
            "   meses     lluvia\n",
            "0  marzo  22.328333\n",
            "1  abril  18.658333\n",
            "2   mayo  15.263333\n",
            "\n",
            "En otoño el porcentaje de temperaturas fue: 18.749999666666668\n"
          ],
          "name": "stdout"
        }
      ]
    },
    {
      "cell_type": "code",
      "metadata": {
        "id": "tnWzLSsqTf-C",
        "outputId": "a1adb830-9ba4-44f8-8421-731f4a2d199d",
        "colab": {
          "base_uri": "https://localhost:8080/"
        }
      },
      "source": [
        "invierno=pd.DataFrame({\"meses\":[\"junio\",\"julio\",\"agosto\"],\"lluvia\":[\"12.380000\",\"11.562069\",\"13.356724\"]})\n",
        "\n",
        "print(invierno)\n",
        "\n",
        "prom=(12.380000+11.562069+13.356724)/3\n",
        "print()\n",
        "print(\"En invierno el porcentaje de temperaturas fue: \"+str(prom))"
      ],
      "execution_count": 202,
      "outputs": [
        {
          "output_type": "stream",
          "text": [
            "    meses     lluvia\n",
            "0   junio  12.380000\n",
            "1   julio  11.562069\n",
            "2  agosto  13.356724\n",
            "\n",
            "En invierno el porcentaje de temperaturas fue: 12.432931000000002\n"
          ],
          "name": "stdout"
        }
      ]
    },
    {
      "cell_type": "code",
      "metadata": {
        "id": "-b_qSzGyTtja",
        "outputId": "ec4c2ecf-3327-4e28-dc78-2c21c13fd1e6",
        "colab": {
          "base_uri": "https://localhost:8080/"
        }
      },
      "source": [
        "primavera=pd.DataFrame({\"meses\":[\"septiembre\",\"octubre\",\"noviembre\"],\"lluvia\":[\"15.151724\",\"17.965517\",\"20.968966\"]})\n",
        "\n",
        "print(primavera)\n",
        "\n",
        "prom=(15.151724+17.965517+20.968966)/3\n",
        "print()\n",
        "print(\"En primavera el porcentaje de temperaturas fue: \"+str(prom))"
      ],
      "execution_count": 196,
      "outputs": [
        {
          "output_type": "stream",
          "text": [
            "        meses     lluvia\n",
            "0  septiembre  15.151724\n",
            "1     octubre  17.965517\n",
            "2   noviembre  20.968966\n",
            "\n",
            "En primavera el porcentaje de temperaturas fue: 18.028735666666666\n"
          ],
          "name": "stdout"
        }
      ]
    },
    {
      "cell_type": "markdown",
      "metadata": {
        "id": "OaOAiNxCl0Z4"
      },
      "source": [
        "**Viento**"
      ]
    },
    {
      "cell_type": "markdown",
      "metadata": {
        "id": "Y7IsJmTOmAfm"
      },
      "source": [
        "*Cargo los datos de velocidad del viento en otro dataframe para poder hacer las operaciones de promedios con sus datos*"
      ]
    },
    {
      "cell_type": "code",
      "metadata": {
        "id": "nrlgqmQwmEgP"
      },
      "source": [
        "df3=pd.read_csv('/content/drive/My Drive/Colab Notebooks/historico_velocidad_maxima_viento.csv', encoding='iso-8859-1')"
      ],
      "execution_count": 131,
      "outputs": []
    },
    {
      "cell_type": "markdown",
      "metadata": {
        "id": "ofWKr_HYoR1K"
      },
      "source": [
        "*En la siguiente línea de código me tiraba el error UnicodeDecodeError: 'utf-8' codec can't decode byte, asi que busque en foros y encontre que debía modificar el encoding*"
      ]
    },
    {
      "cell_type": "code",
      "metadata": {
        "id": "HrcS7FRAownv",
        "outputId": "2fc2fbf6-4682-42ee-f4b7-ddda5dab558e",
        "colab": {
          "base_uri": "https://localhost:8080/",
          "height": 204
        }
      },
      "source": [
        "df3.head()"
      ],
      "execution_count": 116,
      "outputs": [
        {
          "output_type": "execute_result",
          "data": {
            "text/html": [
              "<div>\n",
              "<style scoped>\n",
              "    .dataframe tbody tr th:only-of-type {\n",
              "        vertical-align: middle;\n",
              "    }\n",
              "\n",
              "    .dataframe tbody tr th {\n",
              "        vertical-align: top;\n",
              "    }\n",
              "\n",
              "    .dataframe thead th {\n",
              "        text-align: right;\n",
              "    }\n",
              "</style>\n",
              "<table border=\"1\" class=\"dataframe\">\n",
              "  <thead>\n",
              "    <tr style=\"text-align: right;\">\n",
              "      <th></th>\n",
              "      <th>año</th>\n",
              "      <th>mes</th>\n",
              "      <th>nudos</th>\n",
              "      <th>km/h</th>\n",
              "    </tr>\n",
              "  </thead>\n",
              "  <tbody>\n",
              "    <tr>\n",
              "      <th>0</th>\n",
              "      <td>1991</td>\n",
              "      <td>Enero</td>\n",
              "      <td>38</td>\n",
              "      <td>70</td>\n",
              "    </tr>\n",
              "    <tr>\n",
              "      <th>1</th>\n",
              "      <td>1991</td>\n",
              "      <td>Febrero</td>\n",
              "      <td>19</td>\n",
              "      <td>35</td>\n",
              "    </tr>\n",
              "    <tr>\n",
              "      <th>2</th>\n",
              "      <td>1991</td>\n",
              "      <td>Marzo</td>\n",
              "      <td>32</td>\n",
              "      <td>59</td>\n",
              "    </tr>\n",
              "    <tr>\n",
              "      <th>3</th>\n",
              "      <td>1991</td>\n",
              "      <td>Abril</td>\n",
              "      <td>40</td>\n",
              "      <td>74</td>\n",
              "    </tr>\n",
              "    <tr>\n",
              "      <th>4</th>\n",
              "      <td>1991</td>\n",
              "      <td>Mayo</td>\n",
              "      <td>26</td>\n",
              "      <td>48</td>\n",
              "    </tr>\n",
              "  </tbody>\n",
              "</table>\n",
              "</div>"
            ],
            "text/plain": [
              "    año      mes  nudos  km/h\n",
              "0  1991    Enero     38    70\n",
              "1  1991  Febrero     19    35\n",
              "2  1991    Marzo     32    59\n",
              "3  1991    Abril     40    74\n",
              "4  1991     Mayo     26    48"
            ]
          },
          "metadata": {
            "tags": []
          },
          "execution_count": 116
        }
      ]
    },
    {
      "cell_type": "markdown",
      "metadata": {
        "id": "CgYrktVz3WXM"
      },
      "source": [
        "*Saco el promedio anual de velocidad del viento utilizando la columna kilometros por hora*"
      ]
    },
    {
      "cell_type": "code",
      "metadata": {
        "id": "C4GogKyDo-6I",
        "outputId": "af6be33f-b4dd-401e-962d-2d0f817175e9",
        "colab": {
          "base_uri": "https://localhost:8080/"
        }
      },
      "source": [
        "vientos=df3['km/h']\n",
        "vientos.groupby(df3.index//12).mean()"
      ],
      "execution_count": null,
      "outputs": [
        {
          "output_type": "execute_result",
          "data": {
            "text/plain": [
              "0     60.083333\n",
              "1     67.750000\n",
              "2     64.500000\n",
              "3     66.916667\n",
              "4     53.083333\n",
              "5     69.166667\n",
              "6     62.666667\n",
              "7     56.500000\n",
              "8     55.000000\n",
              "9     48.250000\n",
              "10    56.083333\n",
              "11    50.750000\n",
              "12    49.916667\n",
              "13    46.583333\n",
              "14    48.416667\n",
              "15    46.833333\n",
              "16    48.000000\n",
              "17    44.416667\n",
              "18    41.750000\n",
              "19    42.833333\n",
              "20    55.833333\n",
              "21    56.750000\n",
              "22    55.833333\n",
              "23    57.083333\n",
              "24    42.916667\n",
              "25    50.000000\n",
              "26    59.166667\n",
              "27    53.666667\n",
              "28    54.500000\n",
              "29    53.750000\n",
              "Name: km/h, dtype: float64"
            ]
          },
          "metadata": {
            "tags": []
          },
          "execution_count": 206
        }
      ]
    },
    {
      "cell_type": "markdown",
      "metadata": {
        "id": "qjiMYjPA3MwK"
      },
      "source": [
        "*Ahora sigo con los promedios mensuales generales*"
      ]
    },
    {
      "cell_type": "code",
      "metadata": {
        "id": "V6Hh3l63pSzQ",
        "outputId": "dd97fcd3-16f0-4b5d-a751-94b72b418f80",
        "colab": {
          "base_uri": "https://localhost:8080/"
        }
      },
      "source": [
        "df3.groupby('mes')['km/h'].mean()['Enero']"
      ],
      "execution_count": null,
      "outputs": [
        {
          "output_type": "execute_result",
          "data": {
            "text/plain": [
              "61.96666666666667"
            ]
          },
          "metadata": {
            "tags": []
          },
          "execution_count": 112
        }
      ]
    },
    {
      "cell_type": "code",
      "metadata": {
        "id": "EMHk9zZnpaTk",
        "outputId": "e7d61f1d-52f5-40b0-cbe5-ff8320cc3094",
        "colab": {
          "base_uri": "https://localhost:8080/"
        }
      },
      "source": [
        "df3.groupby('mes')['km/h'].mean()['Febrero']"
      ],
      "execution_count": null,
      "outputs": [
        {
          "output_type": "execute_result",
          "data": {
            "text/plain": [
              "57.0"
            ]
          },
          "metadata": {
            "tags": []
          },
          "execution_count": 113
        }
      ]
    },
    {
      "cell_type": "code",
      "metadata": {
        "id": "G17955aDpdKR",
        "outputId": "99ef6802-5eb3-46ee-def9-c684e5983b9e",
        "colab": {
          "base_uri": "https://localhost:8080/"
        }
      },
      "source": [
        "df3.groupby('mes')['km/h'].mean()['Marzo']"
      ],
      "execution_count": null,
      "outputs": [
        {
          "output_type": "execute_result",
          "data": {
            "text/plain": [
              "55.4"
            ]
          },
          "metadata": {
            "tags": []
          },
          "execution_count": 114
        }
      ]
    },
    {
      "cell_type": "code",
      "metadata": {
        "id": "0rTPC1I0pgZC",
        "outputId": "30af9cef-4ec1-40a3-aff7-69096bce579b",
        "colab": {
          "base_uri": "https://localhost:8080/"
        }
      },
      "source": [
        "df3.groupby('mes')['km/h'].mean()['Abril']"
      ],
      "execution_count": null,
      "outputs": [
        {
          "output_type": "execute_result",
          "data": {
            "text/plain": [
              "53.46666666666667"
            ]
          },
          "metadata": {
            "tags": []
          },
          "execution_count": 115
        }
      ]
    },
    {
      "cell_type": "code",
      "metadata": {
        "id": "JuPcXdJupjw_",
        "outputId": "4290dddf-ea9c-43e5-8a9b-413482ea83e8",
        "colab": {
          "base_uri": "https://localhost:8080/"
        }
      },
      "source": [
        "df3.groupby('mes')['km/h'].mean()['Mayo']"
      ],
      "execution_count": null,
      "outputs": [
        {
          "output_type": "execute_result",
          "data": {
            "text/plain": [
              "45.666666666666664"
            ]
          },
          "metadata": {
            "tags": []
          },
          "execution_count": 116
        }
      ]
    },
    {
      "cell_type": "code",
      "metadata": {
        "id": "kc3SWAZepnvs",
        "outputId": "b65b53a2-f33f-45f8-ac97-c2d63b81c885",
        "colab": {
          "base_uri": "https://localhost:8080/"
        }
      },
      "source": [
        "df3.groupby('mes')['km/h'].mean()['Junio']"
      ],
      "execution_count": null,
      "outputs": [
        {
          "output_type": "execute_result",
          "data": {
            "text/plain": [
              "48.96666666666667"
            ]
          },
          "metadata": {
            "tags": []
          },
          "execution_count": 117
        }
      ]
    },
    {
      "cell_type": "code",
      "metadata": {
        "id": "LeFWYcCJpqfM",
        "outputId": "600e4927-0155-48c6-9ce0-5fd02798798f",
        "colab": {
          "base_uri": "https://localhost:8080/"
        }
      },
      "source": [
        "df3.groupby('mes')['km/h'].mean()['Julio']"
      ],
      "execution_count": null,
      "outputs": [
        {
          "output_type": "execute_result",
          "data": {
            "text/plain": [
              "45.4"
            ]
          },
          "metadata": {
            "tags": []
          },
          "execution_count": 118
        }
      ]
    },
    {
      "cell_type": "code",
      "metadata": {
        "id": "kTiwAjJNpt_M",
        "outputId": "b836ffe3-4cd4-4e72-8e93-2420dae56126",
        "colab": {
          "base_uri": "https://localhost:8080/"
        }
      },
      "source": [
        "df3.groupby('mes')['km/h'].mean()['Agosto']"
      ],
      "execution_count": null,
      "outputs": [
        {
          "output_type": "execute_result",
          "data": {
            "text/plain": [
              "52.86666666666667"
            ]
          },
          "metadata": {
            "tags": []
          },
          "execution_count": 119
        }
      ]
    },
    {
      "cell_type": "code",
      "metadata": {
        "id": "A6WU4UrTpxN9",
        "outputId": "f0a1392b-b093-408b-c508-de5467a0ac9a",
        "colab": {
          "base_uri": "https://localhost:8080/"
        }
      },
      "source": [
        "df3.groupby('mes')['km/h'].mean()['Septiembre']"
      ],
      "execution_count": null,
      "outputs": [
        {
          "output_type": "execute_result",
          "data": {
            "text/plain": [
              "51.206896551724135"
            ]
          },
          "metadata": {
            "tags": []
          },
          "execution_count": 120
        }
      ]
    },
    {
      "cell_type": "code",
      "metadata": {
        "id": "erVK0U2up0iq",
        "outputId": "4ccc241b-1256-4e2c-f15f-58c4ee3028ac",
        "colab": {
          "base_uri": "https://localhost:8080/"
        }
      },
      "source": [
        "df3.groupby('mes')['km/h'].mean()['Octubre']"
      ],
      "execution_count": 132,
      "outputs": [
        {
          "output_type": "execute_result",
          "data": {
            "text/plain": [
              "57.51724137931034"
            ]
          },
          "metadata": {
            "tags": []
          },
          "execution_count": 132
        }
      ]
    },
    {
      "cell_type": "code",
      "metadata": {
        "id": "32-Den8Ip3go",
        "outputId": "8f6b30aa-e49e-4863-9193-7b79258a456c",
        "colab": {
          "base_uri": "https://localhost:8080/"
        }
      },
      "source": [
        "df3.groupby('mes')['km/h'].mean()['Noviembre']"
      ],
      "execution_count": null,
      "outputs": [
        {
          "output_type": "execute_result",
          "data": {
            "text/plain": [
              "58.724137931034484"
            ]
          },
          "metadata": {
            "tags": []
          },
          "execution_count": 122
        }
      ]
    },
    {
      "cell_type": "code",
      "metadata": {
        "id": "mMjC50Omp59B",
        "outputId": "82215b8a-2420-4ad7-ccfa-623adc82261d",
        "colab": {
          "base_uri": "https://localhost:8080/"
        }
      },
      "source": [
        "df3.groupby('mes')['km/h'].mean()['Diciembre']"
      ],
      "execution_count": null,
      "outputs": [
        {
          "output_type": "execute_result",
          "data": {
            "text/plain": [
              "59.827586206896555"
            ]
          },
          "metadata": {
            "tags": []
          },
          "execution_count": 123
        }
      ]
    },
    {
      "cell_type": "markdown",
      "metadata": {
        "id": "o1rCESpfWEoX"
      },
      "source": [
        "*Ahora saco los promedios estacionales*"
      ]
    },
    {
      "cell_type": "code",
      "metadata": {
        "id": "y9GOuu4OWDi8",
        "outputId": "60e2fbd8-7660-4640-c926-efa893cf73ba",
        "colab": {
          "base_uri": "https://localhost:8080/"
        }
      },
      "source": [
        "verano=pd.DataFrame({\"meses\":[\"diciembre\",\"enero\",\"febrero\"],\"temperatura\":[\"59.827586\",\"61.966667\",\"57.000000\"]})\n",
        "\n",
        "print(verano)\n",
        "\n",
        "prom=(59.827586+61.966667+57.000000)/3\n",
        "print()\n",
        "print(\"En verano el porcentaje de velocidad de los vientos fue: \"+str(prom))"
      ],
      "execution_count": 204,
      "outputs": [
        {
          "output_type": "stream",
          "text": [
            "       meses temperatura\n",
            "0  diciembre   59.827586\n",
            "1      enero   61.966667\n",
            "2    febrero   57.000000\n",
            "\n",
            "En verano el porcentaje de velocidad de los vientos fue: 59.59808433333333\n"
          ],
          "name": "stdout"
        }
      ]
    },
    {
      "cell_type": "code",
      "metadata": {
        "id": "7o6tOANqWP8k",
        "outputId": "7087bb0f-89e2-44d5-ec5d-dda01f7e87d7",
        "colab": {
          "base_uri": "https://localhost:8080/"
        }
      },
      "source": [
        "otoño=pd.DataFrame({\"meses\":[\"marzo\",\"abril\",\"mayo\"],\"lluvia\":[\"55.400000\",\"53.466667\",\"45.666667\"]})\n",
        "\n",
        "print(otoño)\n",
        "\n",
        "prom=(55.400000+53.466667+45.666667)/3\n",
        "print()\n",
        "print(\"En otoño el porcentaje de velocidad de los vientos fue: \"+str(prom))"
      ],
      "execution_count": 205,
      "outputs": [
        {
          "output_type": "stream",
          "text": [
            "   meses     lluvia\n",
            "0  marzo  55.400000\n",
            "1  abril  53.466667\n",
            "2   mayo  45.666667\n",
            "\n",
            "En otoño el porcentaje de velocidad de los vientos fue: 51.51111133333333\n"
          ],
          "name": "stdout"
        }
      ]
    },
    {
      "cell_type": "code",
      "metadata": {
        "id": "_pbxAwDKWWdY",
        "outputId": "da2d22d1-22c2-45a4-be36-30ab145ff5b5",
        "colab": {
          "base_uri": "https://localhost:8080/"
        }
      },
      "source": [
        "invierno=pd.DataFrame({\"meses\":[\"junio\",\"julio\",\"agosto\"],\"lluvia\":[\"48.966667\",\"45.400000\",\"52.866667\"]})\n",
        "\n",
        "print(invierno)\n",
        "\n",
        "prom=(48.966667+45.400000+52.866667)/3\n",
        "print()\n",
        "print(\"En invierno el porcentaje de de velocidad de los vientos fue: \"+str(prom))"
      ],
      "execution_count": 206,
      "outputs": [
        {
          "output_type": "stream",
          "text": [
            "    meses     lluvia\n",
            "0   junio  48.966667\n",
            "1   julio  45.400000\n",
            "2  agosto  52.866667\n",
            "\n",
            "En invierno el porcentaje de de velocidad de los vientos fue: 49.077778\n"
          ],
          "name": "stdout"
        }
      ]
    },
    {
      "cell_type": "code",
      "metadata": {
        "id": "xnHlLriaWb08",
        "outputId": "8ee1620b-d72e-4126-c725-307570c776d2",
        "colab": {
          "base_uri": "https://localhost:8080/"
        }
      },
      "source": [
        "primavera=pd.DataFrame({\"meses\":[\"septiembre\",\"octubre\",\"noviembre\"],\"lluvia\":[\"51.206897\",\"57.517241\",\"58.724138\"]})\n",
        "\n",
        "print(primavera)\n",
        "\n",
        "prom=(51.206897+57.517241+58.724138)/3\n",
        "print()\n",
        "print(\"En primavera el porcentaje de velocidad de los vientos fue: \"+str(prom))"
      ],
      "execution_count": 207,
      "outputs": [
        {
          "output_type": "stream",
          "text": [
            "        meses     lluvia\n",
            "0  septiembre  51.206897\n",
            "1     octubre  57.517241\n",
            "2   noviembre  58.724138\n",
            "\n",
            "En primavera el porcentaje de velocidad de los vientos fue: 55.816092\n"
          ],
          "name": "stdout"
        }
      ]
    },
    {
      "cell_type": "markdown",
      "metadata": {
        "id": "C2bWMtcCrm4E"
      },
      "source": [
        "*Ahora creo un dataframe con los valores de los promedios, primero lo convierto en un diccionario a cada promedio, ya que tienen filas distintas,y probando cargarlos todos juntos no se entienden visualmente*"
      ]
    },
    {
      "cell_type": "markdown",
      "metadata": {
        "id": "L1zovmWT2_zr"
      },
      "source": [
        "**PRECIPITACIONES**"
      ]
    },
    {
      "cell_type": "code",
      "metadata": {
        "id": "Jf_uAEqK4lNI",
        "outputId": "e16599ad-8db7-48b8-c796-0d83417b379b",
        "colab": {
          "base_uri": "https://localhost:8080/"
        }
      },
      "source": [
        "print('-----PRECIPITACIONES-----')"
      ],
      "execution_count": 47,
      "outputs": [
        {
          "output_type": "stream",
          "text": [
            "-----PRECIPITACIONES-----\n"
          ],
          "name": "stdout"
        }
      ]
    },
    {
      "cell_type": "code",
      "metadata": {
        "id": "gtYICDc5x4zm"
      },
      "source": [
        "precipitacionesxaños={\n",
        "     'lluvia': {'1991':108.208333,'1992':101.583333,'1993':121.725000,'1994':86.425000,'1995':72.100000,'1996':76.791667,'1997':104.608333,'1998':84.783333,'1999':90.308333,'2000':136.291667,'2001':145.966667,'2002':135.150000,'2003':128.558333,'2004':90.658333,'2005':90.475000,'2006':106.775000,'2007':109.425000,'2008':60.175000,'2009':110.358333,'2010':112.616667,'2011':77.233333,'2012':137.550000,'2013':95.450000,'2014':165.283333,'2015':96.400000,'2016':102.000000,'2017':99.408333,'2018':122.741667,'2019':100.650000,'2020': 79.383333},\n",
        "      }"
      ],
      "execution_count": 88,
      "outputs": []
    },
    {
      "cell_type": "code",
      "metadata": {
        "id": "oUEDlRPH0pis",
        "outputId": "3dfcfe1f-85d0-4e0e-fc4b-ec5cc737db32",
        "colab": {
          "base_uri": "https://localhost:8080/"
        }
      },
      "source": [
        "from pandas import DataFrame\n",
        "df4=pd.DataFrame(precipitacionesxaños)\n",
        "print('---El Promedio Anual en cuanto a las precipitaciones, desde 1991 hasta los datos registrados en 2020 se muestra en el siguiente cuadro--- ')\n",
        "print( )\n",
        "print( )\n",
        "print(df4)"
      ],
      "execution_count": 151,
      "outputs": [
        {
          "output_type": "stream",
          "text": [
            "---El Promedio Anual en cuanto a las precipitaciones, desde 1991 hasta los datos registrados en 2020 se muestra en el siguiente cuadro--- \n",
            "\n",
            "\n",
            "          lluvia\n",
            "1991  108.208333\n",
            "1992  101.583333\n",
            "1993  121.725000\n",
            "1994   86.425000\n",
            "1995   72.100000\n",
            "1996   76.791667\n",
            "1997  104.608333\n",
            "1998   84.783333\n",
            "1999   90.308333\n",
            "2000  136.291667\n",
            "2001  145.966667\n",
            "2002  135.150000\n",
            "2003  128.558333\n",
            "2004   90.658333\n",
            "2005   90.475000\n",
            "2006  106.775000\n",
            "2007  109.425000\n",
            "2008   60.175000\n",
            "2009  110.358333\n",
            "2010  112.616667\n",
            "2011   77.233333\n",
            "2012  137.550000\n",
            "2013   95.450000\n",
            "2014  165.283333\n",
            "2015   96.400000\n",
            "2016  102.000000\n",
            "2017   99.408333\n",
            "2018  122.741667\n",
            "2019  100.650000\n",
            "2020   79.383333\n"
          ],
          "name": "stdout"
        }
      ]
    },
    {
      "cell_type": "code",
      "metadata": {
        "id": "uY0QLYsK0FpB"
      },
      "source": [
        "precipitacionesxmeses ={'lluvia':{'Enero':134.1866666666667,'Febrero':129.56,'Marzo':119.81333333333333,'Abril':130.19666666666666,'Mayo':93.40999999999998,'Junio':61.85000000000001,'Julio':76.98620689655172,'Agosto':72.12413793103448,'Septiembre':79.61724137931033,'Octubre':122.8034482758621,'Noviembre':119.6206896551724,'Diciembre':123.40689655172415}\n",
        "   }"
      ],
      "execution_count": 152,
      "outputs": []
    },
    {
      "cell_type": "code",
      "metadata": {
        "id": "DoOkp21y1Jc9",
        "outputId": "7ffbc082-8495-4204-95e0-916b6199e876",
        "colab": {
          "base_uri": "https://localhost:8080/"
        }
      },
      "source": [
        "df5=pd.DataFrame(precipitacionesxmeses)\n",
        "print('---El Promedio Mensual en cuanto a las precipitaciones, desde 1991 hasta los datos registrados en 2020 se muestra en el siguiente cuadro--- ')\n",
        "print( )\n",
        "print( )\n",
        "print(df5)"
      ],
      "execution_count": 158,
      "outputs": [
        {
          "output_type": "stream",
          "text": [
            "---El Promedio Mensual en cuanto a las precipitaciones, desde 1991 hasta los datos registrados en 2020 se muestra en el siguiente cuadro--- \n",
            "\n",
            "\n",
            "                lluvia\n",
            "Abril       130.196667\n",
            "Agosto       72.124138\n",
            "Diciembre   123.406897\n",
            "Enero       134.186667\n",
            "Febrero     129.560000\n",
            "Julio        76.986207\n",
            "Junio        61.850000\n",
            "Marzo       119.813333\n",
            "Mayo         93.410000\n",
            "Noviembre   119.620690\n",
            "Octubre     122.803448\n",
            "Septiembre   79.617241\n"
          ],
          "name": "stdout"
        }
      ]
    },
    {
      "cell_type": "code",
      "metadata": {
        "id": "tCuOiTJhY6on"
      },
      "source": [
        " precipitacionesxestación ={'lluvia':{'Verano':129.05118773946361,'Otoño':114.47333333333331,'Invierno':270.320115,'Primavera':107.34712633333334}\n",
        "   }"
      ],
      "execution_count": 213,
      "outputs": []
    },
    {
      "cell_type": "code",
      "metadata": {
        "id": "h22MWw8eaOXw",
        "outputId": "27ee359b-308a-4955-fae2-01046e4d41b5",
        "colab": {
          "base_uri": "https://localhost:8080/"
        }
      },
      "source": [
        "df10=pd.DataFrame(precipitacionesxestación)\n",
        "print('---El Promedio Por estación en cuanto a las precipitaciones, desde 1991 hasta los datos registrados en 2020 se muestra en el siguiente cuadro--- ')\n",
        "print( )\n",
        "print( )\n",
        "print(df10)"
      ],
      "execution_count": 214,
      "outputs": [
        {
          "output_type": "stream",
          "text": [
            "---El Promedio Por estación en cuanto a las precipitaciones, desde 1991 hasta los datos registrados en 2020 se muestra en el siguiente cuadro--- \n",
            "\n",
            "\n",
            "               lluvia\n",
            "Invierno   270.320115\n",
            "Otoño      114.473333\n",
            "Primavera  107.347126\n",
            "Verano     129.051188\n"
          ],
          "name": "stdout"
        }
      ]
    },
    {
      "cell_type": "markdown",
      "metadata": {
        "id": "tS7d_PpZ5s0T"
      },
      "source": [
        "**TEMPERATURAS**"
      ]
    },
    {
      "cell_type": "code",
      "metadata": {
        "id": "p70SSAws5vpI"
      },
      "source": [
        "print( )\n",
        "print( )\n",
        "print('-----TEMPERATURAS-----')"
      ],
      "execution_count": null,
      "outputs": []
    },
    {
      "cell_type": "code",
      "metadata": {
        "id": "V3K07i57yNT4"
      },
      "source": [
        "temperaturasxaño={'temperatura': {'1991':17.941667,'1992':17.829167,'1993':17.829167,'1994':18.525000,'1995':18.175000,'1996':18.537500,'1997':18.862500,'1998':17.700000,'1999':17.925000,'2000':17.958333,'2001':18.375000,'2002':18.258333,'2003':18.004167,'2004':18.445833,'2005':18.250000,'2006':18.529167,'2007':17.683333,'2008':19.033333,'2009':18.620417,'2010':18.437500,'2011':18.287500,'2012':18.700000,'2013':18.529167,'2014':18.608333,'2015':18.862500,'2016':18.104167,'2017':19.079167,'2018':18.904167,'2019':18.883333,'2020':20.133333},\n",
        "      } "
      ],
      "execution_count": 159,
      "outputs": []
    },
    {
      "cell_type": "code",
      "metadata": {
        "id": "tVKfswXq64YS",
        "outputId": "ddd0dbf7-7b93-4823-efc3-22b80f6d4024",
        "colab": {
          "base_uri": "https://localhost:8080/"
        }
      },
      "source": [
        "df6=pd.DataFrame(temperaturasxaño)\n",
        "print('---El Promedio Anual en cuanto a las temperaturas, desde 1991 hasta los datos registrados en 2020 se muestra en el siguiente cuadro--- ')\n",
        "print( )\n",
        "print( )\n",
        "print(df6)"
      ],
      "execution_count": 160,
      "outputs": [
        {
          "output_type": "stream",
          "text": [
            "---El Promedio Anual en cuanto a las temperaturas, desde 1991 hasta los datos registrados en 2020 se muestra en el siguiente cuadro--- \n",
            "\n",
            "\n",
            "      temperatura\n",
            "1991    17.941667\n",
            "1992    17.829167\n",
            "1993    17.829167\n",
            "1994    18.525000\n",
            "1995    18.175000\n",
            "1996    18.537500\n",
            "1997    18.862500\n",
            "1998    17.700000\n",
            "1999    17.925000\n",
            "2000    17.958333\n",
            "2001    18.375000\n",
            "2002    18.258333\n",
            "2003    18.004167\n",
            "2004    18.445833\n",
            "2005    18.250000\n",
            "2006    18.529167\n",
            "2007    17.683333\n",
            "2008    19.033333\n",
            "2009    18.620417\n",
            "2010    18.437500\n",
            "2011    18.287500\n",
            "2012    18.700000\n",
            "2013    18.529167\n",
            "2014    18.608333\n",
            "2015    18.862500\n",
            "2016    18.104167\n",
            "2017    19.079167\n",
            "2018    18.904167\n",
            "2019    18.883333\n",
            "2020    20.133333\n"
          ],
          "name": "stdout"
        }
      ]
    },
    {
      "cell_type": "code",
      "metadata": {
        "id": "4soJUQz46PYs"
      },
      "source": [
        "temperaturasxmes={'temperatura': {'Enero':25.11666666666667,'Febrero':24.118333333333336,'Marzo':22.32833333333334,'Abril':18.65833333333334,'Mayo':15.263333333333332,'Junio':12.379999999999999,'Julio':11.562068965517241,'Agosto':13.356724137931034,'Septiembre':15.151724137931033,'Octubre':17.96551724137931,'Noviembre':20.968965517241383,'Diciembre':23.73275862068966}\n",
        "   } \n"
      ],
      "execution_count": 161,
      "outputs": []
    },
    {
      "cell_type": "code",
      "metadata": {
        "id": "3-IlBiFR7RPH",
        "outputId": "db8d54c0-48ff-49c7-8d16-bc8a29a1637e",
        "colab": {
          "base_uri": "https://localhost:8080/"
        }
      },
      "source": [
        "df7=pd.DataFrame(temperaturasxmes)\n",
        "print('---El Promedio Mensual en cuanto a las temperaturas, desde 1991 hasta los datos registrados en 2020 se muestra en el siguiente cuadro--- ')\n",
        "print( )\n",
        "print( )\n",
        "print(df7)"
      ],
      "execution_count": 162,
      "outputs": [
        {
          "output_type": "stream",
          "text": [
            "---El Promedio Mensual en cuanto a las temperaturas, desde 1991 hasta los datos registrados en 2020 se muestra en el siguiente cuadro--- \n",
            "\n",
            "\n",
            "            temperatura\n",
            "Abril         18.658333\n",
            "Agosto        13.356724\n",
            "Diciembre     23.732759\n",
            "Enero         25.116667\n",
            "Febrero       24.118333\n",
            "Julio         11.562069\n",
            "Junio         12.380000\n",
            "Marzo         22.328333\n",
            "Mayo          15.263333\n",
            "Noviembre     20.968966\n",
            "Octubre       17.965517\n",
            "Septiembre    15.151724\n"
          ],
          "name": "stdout"
        }
      ]
    },
    {
      "cell_type": "code",
      "metadata": {
        "id": "XrN4QPnPamZz"
      },
      "source": [
        " temperaturasxestación ={'temperaturas':{'Verano':24.322586333333334,'Otoño':8.749999666666668,'Invierno':12.432931000000002,'Primavera':18.028735666666666}\n",
        "   }\n"
      ],
      "execution_count": 210,
      "outputs": []
    },
    {
      "cell_type": "code",
      "metadata": {
        "id": "m2YqP2xCaq_P",
        "outputId": "3d4808df-079d-4d2e-e8bd-23cddacfec78",
        "colab": {
          "base_uri": "https://localhost:8080/"
        }
      },
      "source": [
        "df11=pd.DataFrame(temperaturasxestación)\n",
        "print('---El Promedio Por estación en cuanto a las temperaturas, desde 1991 hasta los datos registrados en 2020 se muestra en el siguiente cuadro--- ')\n",
        "print( )\n",
        "print( )\n",
        "print(df11)"
      ],
      "execution_count": 212,
      "outputs": [
        {
          "output_type": "stream",
          "text": [
            "---El Promedio Por estación en cuanto a las temperaturas, desde 1991 hasta los datos registrados en 2020 se muestra en el siguiente cuadro--- \n",
            "\n",
            "\n",
            "           temperaturas\n",
            "Invierno      12.432931\n",
            "Otoño          8.750000\n",
            "Primavera     18.028736\n",
            "Verano        24.322586\n"
          ],
          "name": "stdout"
        }
      ]
    },
    {
      "cell_type": "markdown",
      "metadata": {
        "id": "DdcBqbl97X4c"
      },
      "source": [
        "**VIENTO**"
      ]
    },
    {
      "cell_type": "code",
      "metadata": {
        "id": "NmjZy1yv7kfe"
      },
      "source": [
        "print( )\n",
        "print( )\n",
        "print('-----VIENTO-----')"
      ],
      "execution_count": null,
      "outputs": []
    },
    {
      "cell_type": "code",
      "metadata": {
        "id": "gL5oLcWRyUCF"
      },
      "source": [
        "vientosxaño={'vientos': {'1991':60.083333,'1992':67.750000,'1993':64.500000,'1994':66.916667,'1995':53.083333,'1996':69.166667,'1997':62.666667,'1998':56.500000,'1999':55.000000,'2000':48.250000,'2001':56.083333,'2002':50.750000,'2003':49.916667,'2004':46.583333,'2005':48.416667,'2006':46.833333,'2007':48.000000,'2008':44.416667,'2009':41.750000,'2010':42.833333,'2011':55.833333,'2012':56.750000,'2013':55.833333,'2014':57.083333,'2015':42.916667,'2016':50.000000,'2017':59.166667,'2018':53.666667,'2019':54.500000,'2020':53.750000},\n",
        " }"
      ],
      "execution_count": 209,
      "outputs": []
    },
    {
      "cell_type": "code",
      "metadata": {
        "id": "Dch8hY5S7rnH",
        "outputId": "acf26dd2-cfef-4e9d-e7f7-e5d7a2ea75dc",
        "colab": {
          "base_uri": "https://localhost:8080/"
        }
      },
      "source": [
        "df8=pd.DataFrame(vientosxaño)\n",
        "print('---El Promedio Anual en cuanto a la velocidad del viento, desde 1991 hasta los datos registrados en 2020 se muestra en el siguiente cuadro--- ')\n",
        "print( )\n",
        "print( )\n",
        "print(df8)"
      ],
      "execution_count": 166,
      "outputs": [
        {
          "output_type": "stream",
          "text": [
            "---El Promedio Anual en cuanto a la velocidad del viento, desde 1991 hasta los datos registrados en 2020 se muestra en el siguiente cuadro--- \n",
            "\n",
            "\n",
            "        vientos\n",
            "1991  60.083333\n",
            "1992  67.750000\n",
            "1993  64.500000\n",
            "1994  66.916667\n",
            "1995  53.083333\n",
            "1996  69.166667\n",
            "1997  62.666667\n",
            "1998  56.500000\n",
            "1999  55.000000\n",
            "2000  48.250000\n",
            "2001  56.083333\n",
            "2002  50.750000\n",
            "2003  49.916667\n",
            "2004  46.583333\n",
            "2005  48.416667\n",
            "2006  46.833333\n",
            "2007  48.000000\n",
            "2008  44.416667\n",
            "2009  41.750000\n",
            "2010  42.833333\n",
            "2011  55.833333\n",
            "2012  56.750000\n",
            "2013  55.833333\n",
            "2014  57.083333\n",
            "2015  42.916667\n",
            "2016  50.000000\n",
            "2017  59.166667\n",
            "2018  53.666667\n",
            "2019  54.500000\n",
            "2020  53.750000\n"
          ],
          "name": "stdout"
        }
      ]
    },
    {
      "cell_type": "code",
      "metadata": {
        "id": "uKGJzDAQ6mN3"
      },
      "source": [
        "vientosxmes={'vientos': {'Enero':61.96666666666667,'Febrero':57.0,'Marzo':55.4,'Abril':53.46666666666667,'Mayo':45.666666666666664,'Junio':48.96666666666667,'Julio':45.4,'Agosto':52.86666666666667,'Septiembre':51.206896551724135,'Octubre':57.51724137931034,'Noviembre':58.724137931034484,'Diciembre':59.827586206896555}\n",
        "  }"
      ],
      "execution_count": 167,
      "outputs": []
    },
    {
      "cell_type": "code",
      "metadata": {
        "id": "w1vrFTyEzFLk",
        "outputId": "ad396ba9-d6c3-496f-b999-defeb997954d",
        "colab": {
          "base_uri": "https://localhost:8080/"
        }
      },
      "source": [
        "df9=pd.DataFrame(vientosxmes)\n",
        "print('---El Promedio Mensual en cuanto a la velocidad del viento, desde 1991 hasta los datos registrados en 2020 se muestra en el siguiente cuadro--- ')\n",
        "print( )\n",
        "print( )\n",
        "print(df9)"
      ],
      "execution_count": 168,
      "outputs": [
        {
          "output_type": "stream",
          "text": [
            "---El Promedio Mensual en cuanto a la velocidad del viento, desde 1991 hasta los datos registrados en 2020 se muestra en el siguiente cuadro--- \n",
            "\n",
            "\n",
            "              vientos\n",
            "Abril       53.466667\n",
            "Agosto      52.866667\n",
            "Diciembre   59.827586\n",
            "Enero       61.966667\n",
            "Febrero     57.000000\n",
            "Julio       45.400000\n",
            "Junio       48.966667\n",
            "Marzo       55.400000\n",
            "Mayo        45.666667\n",
            "Noviembre   58.724138\n",
            "Octubre     57.517241\n",
            "Septiembre  51.206897\n"
          ],
          "name": "stdout"
        }
      ]
    },
    {
      "cell_type": "code",
      "metadata": {
        "id": "3qwwq1Z1b_vv"
      },
      "source": [
        "vientosxestación ={'vientos':{'Verano':59.59808433333333,'Otoño':51.51111133333333,'Invierno':49.077778,'Primavera':55.816092}\n",
        "   }"
      ],
      "execution_count": 208,
      "outputs": []
    },
    {
      "cell_type": "code",
      "metadata": {
        "id": "kGrMcVQOb_hC",
        "outputId": "a91df8f4-6c38-41e3-a4d8-358217890fbf",
        "colab": {
          "base_uri": "https://localhost:8080/"
        }
      },
      "source": [
        "df12=pd.DataFrame(vientosxestación)\n",
        "print('---El Promedio Por estación en cuanto a la velocidad del viento, desde 1991 hasta los datos registrados en 2020 se muestra en el siguiente cuadro--- ')\n",
        "print( )\n",
        "print( )\n",
        "print(df12)"
      ],
      "execution_count": 211,
      "outputs": [
        {
          "output_type": "stream",
          "text": [
            "---El Promedio Por estación en cuanto a la velocidad del viento, desde 1991 hasta los datos registrados en 2020 se muestra en el siguiente cuadro--- \n",
            "\n",
            "\n",
            "             vientos\n",
            "Invierno   49.077778\n",
            "Otoño      51.511111\n",
            "Primavera  55.816092\n",
            "Verano     59.598084\n"
          ],
          "name": "stdout"
        }
      ]
    },
    {
      "cell_type": "markdown",
      "metadata": {
        "id": "FG8jQEhLX4GW"
      },
      "source": [
        "**---COMPARACIONES---**"
      ]
    },
    {
      "cell_type": "markdown",
      "metadata": {
        "id": "0hAFHi7j-Kvv"
      },
      "source": [
        "*Ahora intentaremos combinar los data frame para que se visualicen los datos de los promedios en un mismo dataframe*"
      ]
    },
    {
      "cell_type": "code",
      "metadata": {
        "id": "lNHg9kK9-Vif",
        "outputId": "b9725117-e196-4e2b-b998-2c1a0298526c",
        "colab": {
          "base_uri": "https://localhost:8080/",
          "height": 204
        }
      },
      "source": [
        "horizontal_stack= pd.concat([df4,df6,df8], axis=1)\n",
        "horizontal_stack.head()"
      ],
      "execution_count": 171,
      "outputs": [
        {
          "output_type": "execute_result",
          "data": {
            "text/html": [
              "<div>\n",
              "<style scoped>\n",
              "    .dataframe tbody tr th:only-of-type {\n",
              "        vertical-align: middle;\n",
              "    }\n",
              "\n",
              "    .dataframe tbody tr th {\n",
              "        vertical-align: top;\n",
              "    }\n",
              "\n",
              "    .dataframe thead th {\n",
              "        text-align: right;\n",
              "    }\n",
              "</style>\n",
              "<table border=\"1\" class=\"dataframe\">\n",
              "  <thead>\n",
              "    <tr style=\"text-align: right;\">\n",
              "      <th></th>\n",
              "      <th>lluvia</th>\n",
              "      <th>temperatura</th>\n",
              "      <th>vientos</th>\n",
              "    </tr>\n",
              "  </thead>\n",
              "  <tbody>\n",
              "    <tr>\n",
              "      <th>1991</th>\n",
              "      <td>108.208333</td>\n",
              "      <td>17.941667</td>\n",
              "      <td>60.083333</td>\n",
              "    </tr>\n",
              "    <tr>\n",
              "      <th>1992</th>\n",
              "      <td>101.583333</td>\n",
              "      <td>17.829167</td>\n",
              "      <td>67.750000</td>\n",
              "    </tr>\n",
              "    <tr>\n",
              "      <th>1993</th>\n",
              "      <td>121.725000</td>\n",
              "      <td>17.829167</td>\n",
              "      <td>64.500000</td>\n",
              "    </tr>\n",
              "    <tr>\n",
              "      <th>1994</th>\n",
              "      <td>86.425000</td>\n",
              "      <td>18.525000</td>\n",
              "      <td>66.916667</td>\n",
              "    </tr>\n",
              "    <tr>\n",
              "      <th>1995</th>\n",
              "      <td>72.100000</td>\n",
              "      <td>18.175000</td>\n",
              "      <td>53.083333</td>\n",
              "    </tr>\n",
              "  </tbody>\n",
              "</table>\n",
              "</div>"
            ],
            "text/plain": [
              "          lluvia  temperatura    vientos\n",
              "1991  108.208333    17.941667  60.083333\n",
              "1992  101.583333    17.829167  67.750000\n",
              "1993  121.725000    17.829167  64.500000\n",
              "1994   86.425000    18.525000  66.916667\n",
              "1995   72.100000    18.175000  53.083333"
            ]
          },
          "metadata": {
            "tags": []
          },
          "execution_count": 171
        }
      ]
    },
    {
      "cell_type": "code",
      "metadata": {
        "id": "odDNEn9L_orB",
        "outputId": "dcd78e02-1d0d-4741-85dd-ceb905faa045",
        "colab": {
          "base_uri": "https://localhost:8080/"
        }
      },
      "source": [
        "print( )\n",
        "print( )\n",
        "print('El siguiente dataframe contiene todos los promedios anuales. La primera columna corresponde a precipitaciones, la segunda a temperaturas y la tercera a la velocidad de los vientos: ')\n",
        "print( )\n",
        "print( )\n",
        "print(horizontal_stack)"
      ],
      "execution_count": 106,
      "outputs": [
        {
          "output_type": "stream",
          "text": [
            "\n",
            "\n",
            "El siguiente dataframe contiene todos los promedios anuales. La primera columna corresponde a precipitaciones, la segunda a temperaturas y la tercera a la velocidad de los vientos: \n",
            "\n",
            "\n",
            "                lluvia  temperatura    vientos\n",
            "Abril       130.196667    18.658333  53.466667\n",
            "Agosto       72.124138    13.356724  52.866667\n",
            "Diciembre   123.406897    23.732759  59.827586\n",
            "Enero       134.186667    25.116667  61.966667\n",
            "Febrero     129.560000    24.118333  57.000000\n",
            "Julio        76.986207    11.562069  45.400000\n",
            "Junio        61.850000    12.380000  48.966667\n",
            "Marzo       119.813333    22.328333  55.400000\n",
            "Mayo         93.410000    15.263333  45.666667\n",
            "Noviembre   119.620690    20.968966  58.724138\n",
            "Octubre     122.803448    17.965517  57.517241\n",
            "Septiembre   79.617241    15.151724  51.206897\n"
          ],
          "name": "stdout"
        }
      ]
    },
    {
      "cell_type": "code",
      "metadata": {
        "id": "xV6RBWrlpBBr"
      },
      "source": [
        "df13=horizontal_stack\n"
      ],
      "execution_count": 179,
      "outputs": []
    },
    {
      "cell_type": "markdown",
      "metadata": {
        "id": "FNXzXaQ4CuSm"
      },
      "source": [
        "*Ahora hago lo mismo para los promedios mensuales desde 1991 hasta 2020*"
      ]
    },
    {
      "cell_type": "code",
      "metadata": {
        "id": "-u5RW-nUComp",
        "outputId": "719391e5-f9e7-4718-fa9d-06040172b2d5",
        "colab": {
          "base_uri": "https://localhost:8080/",
          "height": 421
        }
      },
      "source": [
        "horizontal_stack1 = pd.concat([df5,df7,df9], axis=1)\n",
        "horizontal_stack1.head(12)"
      ],
      "execution_count": 186,
      "outputs": [
        {
          "output_type": "execute_result",
          "data": {
            "text/html": [
              "<div>\n",
              "<style scoped>\n",
              "    .dataframe tbody tr th:only-of-type {\n",
              "        vertical-align: middle;\n",
              "    }\n",
              "\n",
              "    .dataframe tbody tr th {\n",
              "        vertical-align: top;\n",
              "    }\n",
              "\n",
              "    .dataframe thead th {\n",
              "        text-align: right;\n",
              "    }\n",
              "</style>\n",
              "<table border=\"1\" class=\"dataframe\">\n",
              "  <thead>\n",
              "    <tr style=\"text-align: right;\">\n",
              "      <th></th>\n",
              "      <th>lluvia</th>\n",
              "      <th>temperatura</th>\n",
              "      <th>vientos</th>\n",
              "    </tr>\n",
              "  </thead>\n",
              "  <tbody>\n",
              "    <tr>\n",
              "      <th>Abril</th>\n",
              "      <td>130.196667</td>\n",
              "      <td>18.658333</td>\n",
              "      <td>53.466667</td>\n",
              "    </tr>\n",
              "    <tr>\n",
              "      <th>Agosto</th>\n",
              "      <td>72.124138</td>\n",
              "      <td>13.356724</td>\n",
              "      <td>52.866667</td>\n",
              "    </tr>\n",
              "    <tr>\n",
              "      <th>Diciembre</th>\n",
              "      <td>123.406897</td>\n",
              "      <td>23.732759</td>\n",
              "      <td>59.827586</td>\n",
              "    </tr>\n",
              "    <tr>\n",
              "      <th>Enero</th>\n",
              "      <td>134.186667</td>\n",
              "      <td>25.116667</td>\n",
              "      <td>61.966667</td>\n",
              "    </tr>\n",
              "    <tr>\n",
              "      <th>Febrero</th>\n",
              "      <td>129.560000</td>\n",
              "      <td>24.118333</td>\n",
              "      <td>57.000000</td>\n",
              "    </tr>\n",
              "    <tr>\n",
              "      <th>Julio</th>\n",
              "      <td>76.986207</td>\n",
              "      <td>11.562069</td>\n",
              "      <td>45.400000</td>\n",
              "    </tr>\n",
              "    <tr>\n",
              "      <th>Junio</th>\n",
              "      <td>61.850000</td>\n",
              "      <td>12.380000</td>\n",
              "      <td>48.966667</td>\n",
              "    </tr>\n",
              "    <tr>\n",
              "      <th>Marzo</th>\n",
              "      <td>119.813333</td>\n",
              "      <td>22.328333</td>\n",
              "      <td>55.400000</td>\n",
              "    </tr>\n",
              "    <tr>\n",
              "      <th>Mayo</th>\n",
              "      <td>93.410000</td>\n",
              "      <td>15.263333</td>\n",
              "      <td>45.666667</td>\n",
              "    </tr>\n",
              "    <tr>\n",
              "      <th>Noviembre</th>\n",
              "      <td>119.620690</td>\n",
              "      <td>20.968966</td>\n",
              "      <td>58.724138</td>\n",
              "    </tr>\n",
              "    <tr>\n",
              "      <th>Octubre</th>\n",
              "      <td>122.803448</td>\n",
              "      <td>17.965517</td>\n",
              "      <td>57.517241</td>\n",
              "    </tr>\n",
              "    <tr>\n",
              "      <th>Septiembre</th>\n",
              "      <td>79.617241</td>\n",
              "      <td>15.151724</td>\n",
              "      <td>51.206897</td>\n",
              "    </tr>\n",
              "  </tbody>\n",
              "</table>\n",
              "</div>"
            ],
            "text/plain": [
              "                lluvia  temperatura    vientos\n",
              "Abril       130.196667    18.658333  53.466667\n",
              "Agosto       72.124138    13.356724  52.866667\n",
              "Diciembre   123.406897    23.732759  59.827586\n",
              "Enero       134.186667    25.116667  61.966667\n",
              "Febrero     129.560000    24.118333  57.000000\n",
              "Julio        76.986207    11.562069  45.400000\n",
              "Junio        61.850000    12.380000  48.966667\n",
              "Marzo       119.813333    22.328333  55.400000\n",
              "Mayo         93.410000    15.263333  45.666667\n",
              "Noviembre   119.620690    20.968966  58.724138\n",
              "Octubre     122.803448    17.965517  57.517241\n",
              "Septiembre   79.617241    15.151724  51.206897"
            ]
          },
          "metadata": {
            "tags": []
          },
          "execution_count": 186
        }
      ]
    },
    {
      "cell_type": "code",
      "metadata": {
        "id": "3oyMC6YcDigs",
        "outputId": "cef96e81-ab7c-4a4a-94f0-da12537c78e3",
        "colab": {
          "base_uri": "https://localhost:8080/"
        }
      },
      "source": [
        "print( )\n",
        "print( )\n",
        "print('El siguiente dataframe contiene todos los promedios mensuales. La primera columna corresponde a precipitaciones, la segunda a temperaturas y la tercera a la velocidad de los vientos: ')\n",
        "print( )\n",
        "print( )\n",
        "print(horizontal_stack1)"
      ],
      "execution_count": 105,
      "outputs": [
        {
          "output_type": "stream",
          "text": [
            "\n",
            "\n",
            "El siguiente dataframe contiene todos los promedios mensuales. La primera columna corresponde a precipitaciones, la segunda a temperaturas y la tercera a la velocidad de los vientos: \n",
            "\n",
            "\n",
            "                lluvia  temperatura    vientos\n",
            "Abril       130.196667    18.658333  53.466667\n",
            "Agosto       72.124138    13.356724  52.866667\n",
            "Diciembre   123.406897    23.732759  59.827586\n",
            "Enero       134.186667    25.116667  61.966667\n",
            "Febrero     129.560000    24.118333  57.000000\n",
            "Julio        76.986207    11.562069  45.400000\n",
            "Junio        61.850000    12.380000  48.966667\n",
            "Marzo       119.813333    22.328333  55.400000\n",
            "Mayo         93.410000    15.263333  45.666667\n",
            "Noviembre   119.620690    20.968966  58.724138\n",
            "Octubre     122.803448    17.965517  57.517241\n",
            "Septiembre   79.617241    15.151724  51.206897\n"
          ],
          "name": "stdout"
        }
      ]
    },
    {
      "cell_type": "code",
      "metadata": {
        "id": "_vHXEOeQpSVz"
      },
      "source": [
        "df14=horizontal_stack1"
      ],
      "execution_count": 180,
      "outputs": []
    },
    {
      "cell_type": "code",
      "metadata": {
        "id": "GOBqB5koc-L0",
        "outputId": "1e2592f3-b8f1-4095-c62c-5c1f3bc7da8d",
        "colab": {
          "base_uri": "https://localhost:8080/",
          "height": 173
        }
      },
      "source": [
        "horizontal_stack2= pd.concat([df10,df11,df12], axis=1)\n",
        "horizontal_stack2.head()"
      ],
      "execution_count": 218,
      "outputs": [
        {
          "output_type": "execute_result",
          "data": {
            "text/html": [
              "<div>\n",
              "<style scoped>\n",
              "    .dataframe tbody tr th:only-of-type {\n",
              "        vertical-align: middle;\n",
              "    }\n",
              "\n",
              "    .dataframe tbody tr th {\n",
              "        vertical-align: top;\n",
              "    }\n",
              "\n",
              "    .dataframe thead th {\n",
              "        text-align: right;\n",
              "    }\n",
              "</style>\n",
              "<table border=\"1\" class=\"dataframe\">\n",
              "  <thead>\n",
              "    <tr style=\"text-align: right;\">\n",
              "      <th></th>\n",
              "      <th>lluvia</th>\n",
              "      <th>temperaturas</th>\n",
              "      <th>vientos</th>\n",
              "    </tr>\n",
              "  </thead>\n",
              "  <tbody>\n",
              "    <tr>\n",
              "      <th>Invierno</th>\n",
              "      <td>270.320115</td>\n",
              "      <td>12.432931</td>\n",
              "      <td>49.077778</td>\n",
              "    </tr>\n",
              "    <tr>\n",
              "      <th>Otoño</th>\n",
              "      <td>114.473333</td>\n",
              "      <td>8.750000</td>\n",
              "      <td>51.511111</td>\n",
              "    </tr>\n",
              "    <tr>\n",
              "      <th>Primavera</th>\n",
              "      <td>107.347126</td>\n",
              "      <td>18.028736</td>\n",
              "      <td>55.816092</td>\n",
              "    </tr>\n",
              "    <tr>\n",
              "      <th>Verano</th>\n",
              "      <td>129.051188</td>\n",
              "      <td>24.322586</td>\n",
              "      <td>59.598084</td>\n",
              "    </tr>\n",
              "  </tbody>\n",
              "</table>\n",
              "</div>"
            ],
            "text/plain": [
              "               lluvia  temperaturas    vientos\n",
              "Invierno   270.320115     12.432931  49.077778\n",
              "Otoño      114.473333      8.750000  51.511111\n",
              "Primavera  107.347126     18.028736  55.816092\n",
              "Verano     129.051188     24.322586  59.598084"
            ]
          },
          "metadata": {
            "tags": []
          },
          "execution_count": 218
        }
      ]
    },
    {
      "cell_type": "code",
      "metadata": {
        "id": "AE3xgiui0nG6"
      },
      "source": [
        "df15=horizontal_stack2"
      ],
      "execution_count": 220,
      "outputs": []
    },
    {
      "cell_type": "markdown",
      "metadata": {
        "id": "ZTfik5rkqpvH"
      },
      "source": [
        "**CONCLUSIONES**"
      ]
    },
    {
      "cell_type": "markdown",
      "metadata": {
        "id": "Td0NhdQYquHQ"
      },
      "source": [
        "Como aún no cursamos estadística, un análisis detallado de tendencias con los nulos conocimientos actuales no es posible, pero si es posible hacer algunas observaciones sobre los datos recopilados en los resultados de los promedios.\n",
        "\n",
        "Con respecto a los **promedios anuales**, viendo las **precipitaciones** se observa una gran variabilidad a lo largo del período analizado. El año 2012 tiene el mayor promedio de precipitaciones, mientras que el menor corresponde al año 2008. En cuanto a las **temperaturas**, es bastante estable, la diferencia anual varìa en muy pocos grados. El mayor valor registrado en el cuadro es el 2020, pero hay que tener en cuenta que en el archivo csv Histórico de Precipitaciones solo estàn cargados los datos hasta junio. Los valores de las **velocidades de los vientos** son menos estables que las temperaturas, pero más que las precipitaciones. El año donde el viento alcanzó su mayor velocidad promedio anual fue 1996 y el menor 2009.\n",
        "\n",
        "Si miramos los **promedios mensuales**, el mes promedio a lo largo de 30 años con mayor **lluvia** corresponde a Enero, y el mes con menor lluvia es Junio. A su vez, Enero tiene también los valores más altos de **temperatura**, y el que tiene el menor es Julio. Mirando lo que pasaba con la temperatura anual, no puedo evitar notar que el promedio mensual general tiene mayor variabilidad en sus valores con respecto a lo que sucede por año. Observando los **vientos**, tambièn son estables, el mes con la mayor velocidad promedio es Julio y el de la menor es Diciembre.\n",
        "\n",
        "Los **promedios estacionales** analizados, denotan que la estación con menor **lluvia** es el Invierno, mientras que la de mayor lluvia es el Verano. Así mismo, el mayor valor de **temperaturas** es el Verano, y el valor mínimo pertenece al Otoño. En Verano tambièn es cuando hat mayor**velocidad en los vientos**, siendo el Invierno la estaciòn con menor velocidad.\n",
        "\n",
        "\n"
      ]
    }
  ]
}